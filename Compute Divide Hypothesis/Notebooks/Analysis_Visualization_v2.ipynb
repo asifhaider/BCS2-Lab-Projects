{
  "nbformat": 4,
  "nbformat_minor": 0,
  "metadata": {
    "colab": {
      "name": "Analysis_Visualization v2.ipynb",
      "provenance": [],
      "collapsed_sections": [
        "5GF82PmNKl-5",
        "xsFPNevnKe6O",
        "5Wh63uemKrzg",
        "ImnpGZArLvao",
        "KaP_6XKhYraV"
      ]
    },
    "kernelspec": {
      "name": "python3",
      "display_name": "Python 3"
    },
    "language_info": {
      "name": "python"
    }
  },
  "cells": [
    {
      "cell_type": "markdown",
      "metadata": {
        "id": "5GF82PmNKl-5"
      },
      "source": [
        "# Import and Data Load"
      ]
    },
    {
      "cell_type": "code",
      "source": [
        "from google.colab import drive\n",
        "drive.mount('/content/drive')"
      ],
      "metadata": {
        "colab": {
          "base_uri": "https://localhost:8080/"
        },
        "id": "eRqs4ertazqj",
        "outputId": "e65d8af9-3cb3-41d3-9e3f-66b6c0af06bc"
      },
      "execution_count": 249,
      "outputs": [
        {
          "output_type": "stream",
          "name": "stdout",
          "text": [
            "Drive already mounted at /content/drive; to attempt to forcibly remount, call drive.mount(\"/content/drive\", force_remount=True).\n"
          ]
        }
      ]
    },
    {
      "cell_type": "code",
      "metadata": {
        "id": "kmj-0GSXHp9H"
      },
      "source": [
        "import numpy as np\n",
        "import pandas as pd\n",
        "import matplotlib.pyplot as plt\n",
        "import seaborn as sns"
      ],
      "execution_count": 250,
      "outputs": []
    },
    {
      "cell_type": "code",
      "metadata": {
        "colab": {
          "base_uri": "https://localhost:8080/",
          "height": 0
        },
        "id": "CNNq2tXZIYV7",
        "outputId": "10e97416-ef89-48c6-afdc-9ab1b57158c7"
      },
      "source": [
        "df = pd.read_csv('/content/drive/MyDrive/Research/BCS2 Lab/Papers With Code Test/Image Classification/CIFAR-10 Dataset/v3.csv')\n",
        "df"
      ],
      "execution_count": 251,
      "outputs": [
        {
          "output_type": "execute_result",
          "data": {
            "text/html": [
              "\n",
              "  <div id=\"df-2a081fb7-18cd-466e-9823-347e2c255641\">\n",
              "    <div class=\"colab-df-container\">\n",
              "      <div>\n",
              "<style scoped>\n",
              "    .dataframe tbody tr th:only-of-type {\n",
              "        vertical-align: middle;\n",
              "    }\n",
              "\n",
              "    .dataframe tbody tr th {\n",
              "        vertical-align: top;\n",
              "    }\n",
              "\n",
              "    .dataframe thead th {\n",
              "        text-align: right;\n",
              "    }\n",
              "</style>\n",
              "<table border=\"1\" class=\"dataframe\">\n",
              "  <thead>\n",
              "    <tr style=\"text-align: right;\">\n",
              "      <th></th>\n",
              "      <th>model</th>\n",
              "      <th>paper-title href</th>\n",
              "      <th>accuracy</th>\n",
              "      <th>parameters</th>\n",
              "      <th>github href</th>\n",
              "      <th>paper href</th>\n",
              "      <th>paper title</th>\n",
              "      <th>year</th>\n",
              "      <th>Industry Affiliation</th>\n",
              "      <th>Academia Affiliation</th>\n",
              "      <th>Country</th>\n",
              "      <th>Extra Training Data</th>\n",
              "    </tr>\n",
              "  </thead>\n",
              "  <tbody>\n",
              "    <tr>\n",
              "      <th>0</th>\n",
              "      <td>ViT-H/14</td>\n",
              "      <td>https://paperswithcode.com/paper/an-image-is-w...</td>\n",
              "      <td>99.50±0.06</td>\n",
              "      <td>632M</td>\n",
              "      <td>https://paperswithcode.com/paper/an-image-is-w...</td>\n",
              "      <td>https://paperswithcode.com/paper/an-image-is-w...</td>\n",
              "      <td>An Image is Worth 16x16 Words: Transformers fo...</td>\n",
              "      <td>2020</td>\n",
              "      <td>Google</td>\n",
              "      <td>NaN</td>\n",
              "      <td>NaN</td>\n",
              "      <td>Yes</td>\n",
              "    </tr>\n",
              "    <tr>\n",
              "      <th>1</th>\n",
              "      <td>CaiT-M-36 U 224</td>\n",
              "      <td>https://paperswithcode.com/paper/going-deeper-...</td>\n",
              "      <td>99.4</td>\n",
              "      <td>NaN</td>\n",
              "      <td>https://paperswithcode.com/paper/going-deeper-...</td>\n",
              "      <td>https://paperswithcode.com/paper/going-deeper-...</td>\n",
              "      <td>Going deeper with Image Transformers</td>\n",
              "      <td>2021</td>\n",
              "      <td>Facebook AI Research</td>\n",
              "      <td>Sorbonne University</td>\n",
              "      <td>NaN</td>\n",
              "      <td>Yes</td>\n",
              "    </tr>\n",
              "    <tr>\n",
              "      <th>2</th>\n",
              "      <td>CvT-W24</td>\n",
              "      <td>https://paperswithcode.com/paper/cvt-introduci...</td>\n",
              "      <td>99.39</td>\n",
              "      <td>NaN</td>\n",
              "      <td>https://paperswithcode.com/paper/cvt-introduci...</td>\n",
              "      <td>https://paperswithcode.com/paper/cvt-introduci...</td>\n",
              "      <td>CvT: Introducing Convolutions to Vision Transf...</td>\n",
              "      <td>2021</td>\n",
              "      <td>Microsoft Cloud AI</td>\n",
              "      <td>McGill University</td>\n",
              "      <td>NaN</td>\n",
              "      <td>Yes</td>\n",
              "    </tr>\n",
              "    <tr>\n",
              "      <th>3</th>\n",
              "      <td>BiT-L</td>\n",
              "      <td>https://paperswithcode.com/paper/large-scale-l...</td>\n",
              "      <td>99.37</td>\n",
              "      <td>NaN</td>\n",
              "      <td>https://paperswithcode.com/paper/large-scale-l...</td>\n",
              "      <td>https://paperswithcode.com/paper/large-scale-l...</td>\n",
              "      <td>Big Transfer (BiT): General Visual Representat...</td>\n",
              "      <td>2019</td>\n",
              "      <td>Google</td>\n",
              "      <td>NaN</td>\n",
              "      <td>NaN</td>\n",
              "      <td>Yes</td>\n",
              "    </tr>\n",
              "    <tr>\n",
              "      <th>4</th>\n",
              "      <td>CeiT-S</td>\n",
              "      <td>https://paperswithcode.com/paper/incorporating...</td>\n",
              "      <td>99.1</td>\n",
              "      <td>NaN</td>\n",
              "      <td>https://paperswithcode.com/paper/incorporating...</td>\n",
              "      <td>https://paperswithcode.com/paper/incorporating...</td>\n",
              "      <td>Incorporating Convolution Designs into Visual ...</td>\n",
              "      <td>2021</td>\n",
              "      <td>SenseTime</td>\n",
              "      <td>Nanyang Technological University, HKUST</td>\n",
              "      <td>NaN</td>\n",
              "      <td>Yes</td>\n",
              "    </tr>\n",
              "    <tr>\n",
              "      <th>...</th>\n",
              "      <td>...</td>\n",
              "      <td>...</td>\n",
              "      <td>...</td>\n",
              "      <td>...</td>\n",
              "      <td>...</td>\n",
              "      <td>...</td>\n",
              "      <td>...</td>\n",
              "      <td>...</td>\n",
              "      <td>...</td>\n",
              "      <td>...</td>\n",
              "      <td>...</td>\n",
              "      <td>...</td>\n",
              "    </tr>\n",
              "    <tr>\n",
              "      <th>171</th>\n",
              "      <td>Hybrid PiN</td>\n",
              "      <td>https://paperswithcode.com/paper/vision-xforme...</td>\n",
              "      <td>74</td>\n",
              "      <td>0.990298M</td>\n",
              "      <td>https://paperswithcode.com/paper/vision-xforme...</td>\n",
              "      <td>https://paperswithcode.com/paper/vision-xforme...</td>\n",
              "      <td>Vision Xformers: Efficient Attention for Image...</td>\n",
              "      <td>2021</td>\n",
              "      <td>NaN</td>\n",
              "      <td>IIT Bombay</td>\n",
              "      <td>NaN</td>\n",
              "      <td>No</td>\n",
              "    </tr>\n",
              "    <tr>\n",
              "      <th>172</th>\n",
              "      <td>Vision Nystromformer</td>\n",
              "      <td>https://paperswithcode.com/paper/vision-xforme...</td>\n",
              "      <td>65.06</td>\n",
              "      <td>0.530970M</td>\n",
              "      <td>https://paperswithcode.com/paper/vision-xforme...</td>\n",
              "      <td>https://paperswithcode.com/paper/vision-xforme...</td>\n",
              "      <td>Vision Xformers: Efficient Attention for Image...</td>\n",
              "      <td>2021</td>\n",
              "      <td>NaN</td>\n",
              "      <td>IIT Bombay</td>\n",
              "      <td>NaN</td>\n",
              "      <td>No</td>\n",
              "    </tr>\n",
              "    <tr>\n",
              "      <th>173</th>\n",
              "      <td>ANODE</td>\n",
              "      <td>https://paperswithcode.com/paper/augmented-neu...</td>\n",
              "      <td>60.6</td>\n",
              "      <td>NaN</td>\n",
              "      <td>https://paperswithcode.com/paper/augmented-neu...</td>\n",
              "      <td>https://paperswithcode.com/paper/augmented-neu...</td>\n",
              "      <td>Augmented Neural ODEs</td>\n",
              "      <td>2019</td>\n",
              "      <td>NaN</td>\n",
              "      <td>University of Oxford</td>\n",
              "      <td>NaN</td>\n",
              "      <td>No</td>\n",
              "    </tr>\n",
              "    <tr>\n",
              "      <th>174</th>\n",
              "      <td>ViT-L/16</td>\n",
              "      <td>https://paperswithcode.com/paper/an-image-is-w...</td>\n",
              "      <td>99.42±0.03</td>\n",
              "      <td>307M</td>\n",
              "      <td>https://paperswithcode.com/paper/an-image-is-w...</td>\n",
              "      <td>https://paperswithcode.com/paper/an-image-is-w...</td>\n",
              "      <td>An Image is Worth 16x16 Words: Transformers fo...</td>\n",
              "      <td>2020</td>\n",
              "      <td>Google Brain</td>\n",
              "      <td>NaN</td>\n",
              "      <td>NaN</td>\n",
              "      <td>Yes</td>\n",
              "    </tr>\n",
              "    <tr>\n",
              "      <th>175</th>\n",
              "      <td>kEffNet-B0</td>\n",
              "      <td>https://paperswithcode.com/paper/grouped-point...</td>\n",
              "      <td>639,702</td>\n",
              "      <td>NaN</td>\n",
              "      <td>https://paperswithcode.com/paper/grouped-point...</td>\n",
              "      <td>https://paperswithcode.com/paper/grouped-point...</td>\n",
              "      <td>Grouped Pointwise Convolutions Significantly R...</td>\n",
              "      <td>2021</td>\n",
              "      <td>NaN</td>\n",
              "      <td>Universitat Rovira i Virgili</td>\n",
              "      <td>NaN</td>\n",
              "      <td>No</td>\n",
              "    </tr>\n",
              "  </tbody>\n",
              "</table>\n",
              "<p>176 rows × 12 columns</p>\n",
              "</div>\n",
              "      <button class=\"colab-df-convert\" onclick=\"convertToInteractive('df-2a081fb7-18cd-466e-9823-347e2c255641')\"\n",
              "              title=\"Convert this dataframe to an interactive table.\"\n",
              "              style=\"display:none;\">\n",
              "        \n",
              "  <svg xmlns=\"http://www.w3.org/2000/svg\" height=\"24px\"viewBox=\"0 0 24 24\"\n",
              "       width=\"24px\">\n",
              "    <path d=\"M0 0h24v24H0V0z\" fill=\"none\"/>\n",
              "    <path d=\"M18.56 5.44l.94 2.06.94-2.06 2.06-.94-2.06-.94-.94-2.06-.94 2.06-2.06.94zm-11 1L8.5 8.5l.94-2.06 2.06-.94-2.06-.94L8.5 2.5l-.94 2.06-2.06.94zm10 10l.94 2.06.94-2.06 2.06-.94-2.06-.94-.94-2.06-.94 2.06-2.06.94z\"/><path d=\"M17.41 7.96l-1.37-1.37c-.4-.4-.92-.59-1.43-.59-.52 0-1.04.2-1.43.59L10.3 9.45l-7.72 7.72c-.78.78-.78 2.05 0 2.83L4 21.41c.39.39.9.59 1.41.59.51 0 1.02-.2 1.41-.59l7.78-7.78 2.81-2.81c.8-.78.8-2.07 0-2.86zM5.41 20L4 18.59l7.72-7.72 1.47 1.35L5.41 20z\"/>\n",
              "  </svg>\n",
              "      </button>\n",
              "      \n",
              "  <style>\n",
              "    .colab-df-container {\n",
              "      display:flex;\n",
              "      flex-wrap:wrap;\n",
              "      gap: 12px;\n",
              "    }\n",
              "\n",
              "    .colab-df-convert {\n",
              "      background-color: #E8F0FE;\n",
              "      border: none;\n",
              "      border-radius: 50%;\n",
              "      cursor: pointer;\n",
              "      display: none;\n",
              "      fill: #1967D2;\n",
              "      height: 32px;\n",
              "      padding: 0 0 0 0;\n",
              "      width: 32px;\n",
              "    }\n",
              "\n",
              "    .colab-df-convert:hover {\n",
              "      background-color: #E2EBFA;\n",
              "      box-shadow: 0px 1px 2px rgba(60, 64, 67, 0.3), 0px 1px 3px 1px rgba(60, 64, 67, 0.15);\n",
              "      fill: #174EA6;\n",
              "    }\n",
              "\n",
              "    [theme=dark] .colab-df-convert {\n",
              "      background-color: #3B4455;\n",
              "      fill: #D2E3FC;\n",
              "    }\n",
              "\n",
              "    [theme=dark] .colab-df-convert:hover {\n",
              "      background-color: #434B5C;\n",
              "      box-shadow: 0px 1px 3px 1px rgba(0, 0, 0, 0.15);\n",
              "      filter: drop-shadow(0px 1px 2px rgba(0, 0, 0, 0.3));\n",
              "      fill: #FFFFFF;\n",
              "    }\n",
              "  </style>\n",
              "\n",
              "      <script>\n",
              "        const buttonEl =\n",
              "          document.querySelector('#df-2a081fb7-18cd-466e-9823-347e2c255641 button.colab-df-convert');\n",
              "        buttonEl.style.display =\n",
              "          google.colab.kernel.accessAllowed ? 'block' : 'none';\n",
              "\n",
              "        async function convertToInteractive(key) {\n",
              "          const element = document.querySelector('#df-2a081fb7-18cd-466e-9823-347e2c255641');\n",
              "          const dataTable =\n",
              "            await google.colab.kernel.invokeFunction('convertToInteractive',\n",
              "                                                     [key], {});\n",
              "          if (!dataTable) return;\n",
              "\n",
              "          const docLinkHtml = 'Like what you see? Visit the ' +\n",
              "            '<a target=\"_blank\" href=https://colab.research.google.com/notebooks/data_table.ipynb>data table notebook</a>'\n",
              "            + ' to learn more about interactive tables.';\n",
              "          element.innerHTML = '';\n",
              "          dataTable['output_type'] = 'display_data';\n",
              "          await google.colab.output.renderOutput(dataTable, element);\n",
              "          const docLink = document.createElement('div');\n",
              "          docLink.innerHTML = docLinkHtml;\n",
              "          element.appendChild(docLink);\n",
              "        }\n",
              "      </script>\n",
              "    </div>\n",
              "  </div>\n",
              "  "
            ],
            "text/plain": [
              "                    model  ... Extra Training Data\n",
              "0                ViT-H/14  ...                 Yes\n",
              "1         CaiT-M-36 U 224  ...                 Yes\n",
              "2                 CvT-W24  ...                 Yes\n",
              "3                   BiT-L  ...                 Yes\n",
              "4                  CeiT-S  ...                 Yes\n",
              "..                    ...  ...                 ...\n",
              "171            Hybrid PiN  ...                  No\n",
              "172  Vision Nystromformer  ...                  No\n",
              "173                 ANODE  ...                  No\n",
              "174              ViT-L/16  ...                 Yes\n",
              "175            kEffNet-B0  ...                  No\n",
              "\n",
              "[176 rows x 12 columns]"
            ]
          },
          "metadata": {},
          "execution_count": 251
        }
      ]
    },
    {
      "cell_type": "markdown",
      "metadata": {
        "id": "xsFPNevnKe6O"
      },
      "source": [
        "# Industry Analysis"
      ]
    },
    {
      "cell_type": "code",
      "metadata": {
        "colab": {
          "base_uri": "https://localhost:8080/"
        },
        "id": "6DfgONGBIeMs",
        "outputId": "7625a85a-c9a5-41ce-bae7-d03ddda95260"
      },
      "source": [
        "industry = df['Industry Affiliation']\n",
        "industry"
      ],
      "execution_count": 252,
      "outputs": [
        {
          "output_type": "execute_result",
          "data": {
            "text/plain": [
              "0                   Google \n",
              "1      Facebook AI Research\n",
              "2        Microsoft Cloud AI\n",
              "3                   Google \n",
              "4                 SenseTime\n",
              "               ...         \n",
              "171                     NaN\n",
              "172                     NaN\n",
              "173                     NaN\n",
              "174            Google Brain\n",
              "175                     NaN\n",
              "Name: Industry Affiliation, Length: 176, dtype: object"
            ]
          },
          "metadata": {},
          "execution_count": 252
        }
      ]
    },
    {
      "cell_type": "code",
      "metadata": {
        "colab": {
          "base_uri": "https://localhost:8080/"
        },
        "id": "sGw0MvbZKh5c",
        "outputId": "1ead0c7b-ac28-4ee6-eb0d-a53108cb2524"
      },
      "source": [
        "def isNaN (num):\n",
        "  return num!=num\n",
        "\n",
        "unique_industry = {}\n",
        "for i in industry:\n",
        "  if not isNaN(i):\n",
        "    j = i.split(', ')\n",
        "    for k in j:\n",
        "      k = k.strip()\n",
        "      if k not in unique_industry:\n",
        "        count = 1\n",
        "        unique_industry[k] = count\n",
        "      else:\n",
        "        count = unique_industry[k]\n",
        "        count = count + 1\n",
        "        unique_industry[k] = count \n",
        "print('Unique Number of Industrial Companies: ' + str(len(unique_industry)))\n",
        "industry_count = sorted(unique_industry.items(), key = lambda kv: kv[1], reverse = True)\n",
        "total_count_1 = 0\n",
        "for i in unique_industry.values():\n",
        "  total_count_1 = total_count_1 + i\n",
        "print('Total Industry Appearance: ' + str(total_count_1))\n",
        "# unique_industry # sorts based on keys \n",
        "industry_count  # sorts based on values"
      ],
      "execution_count": 253,
      "outputs": [
        {
          "output_type": "stream",
          "name": "stdout",
          "text": [
            "Unique Number of Industrial Companies: 34\n",
            "Total Industry Appearance: 98\n"
          ]
        },
        {
          "output_type": "execute_result",
          "data": {
            "text/plain": [
              "[('Google', 16),\n",
              " ('Facebook AI Research', 16),\n",
              " ('Google Brain', 15),\n",
              " ('PicsArt Inc.', 5),\n",
              " ('Valeo', 4),\n",
              " ('SenseTime', 3),\n",
              " ('Samsung', 3),\n",
              " ('Microsoft', 3),\n",
              " ('Huawei Inc.', 2),\n",
              " ('Xiaomi', 2),\n",
              " ('Facebook', 2),\n",
              " ('Momenta', 2),\n",
              " ('Helmholtz AI', 2),\n",
              " ('Technicolor', 2),\n",
              " ('Indico', 2),\n",
              " ('Microsoft Cloud AI', 1),\n",
              " ('Microsoft Asia', 1),\n",
              " ('Amazon', 1),\n",
              " ('Kakao Brain', 1),\n",
              " ('Futurewei', 1),\n",
              " ('Thales', 1),\n",
              " ('Google AI', 1),\n",
              " ('Line Plus Corp.', 1),\n",
              " ('Naver Corp.', 1),\n",
              " ('Kongsberg Seatex', 1),\n",
              " ('Arvenware', 1),\n",
              " ('Sensifai', 1),\n",
              " ('Elecholic', 1),\n",
              " ('Lunit Inc.', 1),\n",
              " ('Element AI', 1),\n",
              " ('DeepMind', 1),\n",
              " ('Intel Corp.', 1),\n",
              " ('Adobe Research', 1),\n",
              " ('Denso Corp.', 1)]"
            ]
          },
          "metadata": {},
          "execution_count": 253
        }
      ]
    },
    {
      "cell_type": "code",
      "metadata": {
        "id": "ijb8aeOmRDGY",
        "colab": {
          "base_uri": "https://localhost:8080/"
        },
        "outputId": "db906b05-5462-4cbc-81c2-9e1eaa0b2270"
      },
      "source": [
        "industry_country = {}\n",
        "\n",
        "# collecting older ones\n",
        "industry_country_csv = pd.read_csv('/content/drive/MyDrive/Research/BCS2 Lab/Papers With Code Test/updated_industry_country.csv', encoding='latin-1')\n",
        "industry_country_already_enlisted = {}\n",
        "\n",
        "for i in range(len(industry_country_csv['Industry'])):\n",
        "  industry_country_already_enlisted[industry_country_csv['Industry'][i]] = industry_country_csv['Country'][i]\n",
        "\n",
        "# creating new one\n",
        "\n",
        "# industry_country_already_enlisted['AITRICS'] = 'South Korea'\n",
        "# industry_country_already_enlisted['Ant Group'] = 'China'\n",
        "# industry_country_already_enlisted['Denso Corp.'] = 'Japan'\n",
        "# industry_country_already_enlisted['Elan Microelectronics Corp.'] = 'Taiwan'\n",
        "# industry_country_already_enlisted['GE Global Research'] = 'USA'\n",
        "# industry_country_already_enlisted['Intellifusion Inc.'] = 'China'\n",
        "# industry_country_already_enlisted['Malong LLC'] = 'USA'\n",
        "# industry_country_already_enlisted['Pinterest'] = 'USA'\n",
        "# industry_country_already_enlisted['Qualcomm'] = 'USA'\n",
        "# industry_country_already_enlisted['Tencent'] = 'China'\n",
        "# industry_country_already_enlisted['TuSimple'] = 'China'\n",
        "# industry_country_already_enlisted['XL8 Inc.'] = 'USA'\n",
        "\n",
        "for i in unique_industry:\n",
        "  if i in industry_country_already_enlisted:\n",
        "    industry_country[i] = industry_country_already_enlisted[i]\n",
        "\n",
        "print(len(industry_country))\n",
        "industry_country"
      ],
      "execution_count": 254,
      "outputs": [
        {
          "output_type": "stream",
          "name": "stdout",
          "text": [
            "34\n"
          ]
        },
        {
          "output_type": "execute_result",
          "data": {
            "text/plain": [
              "{'Adobe Research': 'USA',\n",
              " 'Amazon': 'USA',\n",
              " 'Arvenware': 'Iran',\n",
              " 'DeepMind': 'UK',\n",
              " 'Denso Corp.': 'Japan',\n",
              " 'Elecholic': 'China',\n",
              " 'Element AI': 'Canada',\n",
              " 'Facebook': 'USA',\n",
              " 'Facebook AI Research': 'USA',\n",
              " 'Futurewei': 'USA',\n",
              " 'Google': 'USA',\n",
              " 'Google AI': 'USA',\n",
              " 'Google Brain': 'USA',\n",
              " 'Helmholtz AI': 'Germany',\n",
              " 'Huawei Inc.': 'China',\n",
              " 'Indico': 'USA',\n",
              " 'Intel Corp.': 'USA',\n",
              " 'Kakao Brain': 'South Korea',\n",
              " 'Kongsberg Seatex': 'Norway',\n",
              " 'Line Plus Corp.': 'South Korea',\n",
              " 'Lunit Inc.': 'South Korea',\n",
              " 'Microsoft': 'USA',\n",
              " 'Microsoft Asia': 'China',\n",
              " 'Microsoft Cloud AI': 'USA',\n",
              " 'Momenta': 'China',\n",
              " 'Naver Corp.': 'South Korea',\n",
              " 'PicsArt Inc.': 'USA',\n",
              " 'Samsung': 'South Korea',\n",
              " 'SenseTime': 'Hong Kong',\n",
              " 'Sensifai': 'Belgium',\n",
              " 'Technicolor': 'France',\n",
              " 'Thales': 'France',\n",
              " 'Valeo': 'France',\n",
              " 'Xiaomi': 'China'}"
            ]
          },
          "metadata": {},
          "execution_count": 254
        }
      ]
    },
    {
      "cell_type": "code",
      "metadata": {
        "colab": {
          "base_uri": "https://localhost:8080/"
        },
        "id": "Q_Y_pyV0R1_b",
        "outputId": "df5fcc20-5c13-4d3f-f303-2af67ca72713"
      },
      "source": [
        "country_count = {}\n",
        "for i in industry_count:\n",
        "  j = i[0]\n",
        "  for k in industry_country.keys():\n",
        "    if j == k:\n",
        "      country = industry_country[k]\n",
        "      if country not in country_count:\n",
        "        country_count[country] = i[1]\n",
        "      else:\n",
        "        count = country_count[country]\n",
        "        count = count + i[1]\n",
        "        country_count[country] = count\n",
        "\n",
        "########## Custom Modifying Based on Regional Office ##########\n",
        "# country_count['Netherlands'] = 1\n",
        "# country_count['USA'] = country_count['USA']-1;\n",
        "########## Custom Modifying Based on Regional Office ##########\n",
        "\n",
        "country_count_sort = sorted(country_count.items(), key = lambda kv: kv[1], reverse = True)\n",
        "\n",
        "print(sum(i[1] for i in country_count_sort))\n",
        "country_count_sort"
      ],
      "execution_count": 255,
      "outputs": [
        {
          "output_type": "stream",
          "name": "stdout",
          "text": [
            "98\n"
          ]
        },
        {
          "output_type": "execute_result",
          "data": {
            "text/plain": [
              "[('USA', 65),\n",
              " ('China', 8),\n",
              " ('France', 7),\n",
              " ('South Korea', 7),\n",
              " ('Hong Kong', 3),\n",
              " ('Germany', 2),\n",
              " ('Norway', 1),\n",
              " ('Iran', 1),\n",
              " ('Belgium', 1),\n",
              " ('Canada', 1),\n",
              " ('UK', 1),\n",
              " ('Japan', 1)]"
            ]
          },
          "metadata": {},
          "execution_count": 255
        }
      ]
    },
    {
      "cell_type": "markdown",
      "metadata": {
        "id": "5Wh63uemKrzg"
      },
      "source": [
        "# Academia Analysis"
      ]
    },
    {
      "cell_type": "code",
      "metadata": {
        "colab": {
          "base_uri": "https://localhost:8080/"
        },
        "id": "YhepPkjyK2tq",
        "outputId": "98fcbb12-42ce-45de-c0b3-6c1c1efc36c2"
      },
      "source": [
        "academia = df['Academia Affiliation']\n",
        "academia"
      ],
      "execution_count": 256,
      "outputs": [
        {
          "output_type": "execute_result",
          "data": {
            "text/plain": [
              "0                                          NaN\n",
              "1                          Sorbonne University\n",
              "2                            McGill University\n",
              "3                                          NaN\n",
              "4      Nanyang Technological University, HKUST\n",
              "                        ...                   \n",
              "171                                 IIT Bombay\n",
              "172                                 IIT Bombay\n",
              "173                       University of Oxford\n",
              "174                                        NaN\n",
              "175               Universitat Rovira i Virgili\n",
              "Name: Academia Affiliation, Length: 176, dtype: object"
            ]
          },
          "metadata": {},
          "execution_count": 256
        }
      ]
    },
    {
      "cell_type": "code",
      "metadata": {
        "colab": {
          "base_uri": "https://localhost:8080/"
        },
        "id": "QpZcb6ybQ3Cs",
        "outputId": "5ec1f640-463c-48c1-c7f2-08df21f253e5"
      },
      "source": [
        "unique_academia = {}\n",
        "for i in academia:\n",
        "  if not isNaN(i):\n",
        "    j = i.split(', ')\n",
        "    for k in j:\n",
        "      k = k.strip()\n",
        "      if k is not '':\n",
        "        if k not in unique_academia:\n",
        "          count = 1\n",
        "          unique_academia[k] = count\n",
        "        else:\n",
        "          count = unique_academia[k]\n",
        "          count = count + 1\n",
        "          unique_academia[k] = count \n",
        "print('Unique Number of Academic Institutes: ' + str(len(unique_academia)))\n",
        "academia_count = sorted(unique_academia.items(), key = lambda kv: kv[1], reverse = True)\n",
        "\n",
        "total_count_2 = 0\n",
        "for i in unique_academia.values():\n",
        "  total_count_2 = total_count_2 + i\n",
        "print('Total Academia Appearance: ' + str(total_count_2))\n",
        "academia_count\n",
        "# unique_academia"
      ],
      "execution_count": 257,
      "outputs": [
        {
          "output_type": "stream",
          "name": "stdout",
          "text": [
            "Unique Number of Academic Institutes: 108\n",
            "Total Academia Appearance: 221\n"
          ]
        },
        {
          "output_type": "execute_result",
          "data": {
            "text/plain": [
              "[('UIUC', 7),\n",
              " ('UCLA', 7),\n",
              " ('Sorbonne University', 6),\n",
              " ('Tsinghua University', 6),\n",
              " ('Purdue University', 6),\n",
              " ('MIT', 6),\n",
              " ('IIT Bombay', 6),\n",
              " ('The Chinese University of Hong Kong', 5),\n",
              " ('University of Oregon', 5),\n",
              " ('Michigan State University', 5),\n",
              " ('University of Southern California', 5),\n",
              " ('Cornell University', 5),\n",
              " ('University of Toronto', 5),\n",
              " ('HKUST', 4),\n",
              " ('University of Chinese Academy of Sciences', 4),\n",
              " ('Zhejiang University', 4),\n",
              " ('Southern University of Science and Technology', 4),\n",
              " ('Carnegie Mellon University', 4),\n",
              " ('Peking University', 4),\n",
              " ('Nanyang Technological University', 3),\n",
              " ('UC San Diego', 3),\n",
              " ('National Chiao Tung University', 3),\n",
              " ('University of Freiburg', 3),\n",
              " ('Harvard University', 3),\n",
              " ('New York University', 3),\n",
              " ('IDSIA', 3),\n",
              " ('University of Montreal', 3),\n",
              " ('Inria', 2),\n",
              " ('Beihang University', 2),\n",
              " ('University of Ottawa', 2),\n",
              " ('Stanford University', 2),\n",
              " ('University of Oxford', 2),\n",
              " ('Mila - Quebec AI Institute', 2),\n",
              " ('ETH Zurich', 2),\n",
              " ('University of Zurich', 2),\n",
              " ('Lomonosov Moscow State University', 2),\n",
              " ('Higher School of Economics', 2),\n",
              " ('University of South Australia', 2),\n",
              " ('University of Warwick', 2),\n",
              " ('Institute For Research In Fundamental Sciences', 2),\n",
              " ('University of Washington', 2),\n",
              " ('EPFL', 2),\n",
              " ('Polytechnique Montreal', 2),\n",
              " ('KIIT', 2),\n",
              " ('The University of Adelaide', 2),\n",
              " ('McGill University', 1),\n",
              " ('Stony Brook University', 1),\n",
              " ('University of Macau', 1),\n",
              " ('Brown University', 1),\n",
              " ('Beijing National Research Center for Information Science and Technology',\n",
              "  1),\n",
              " ('University of Southampton', 1),\n",
              " ('Beijing Academy of Intelligence', 1),\n",
              " ('University of Coimbra', 1),\n",
              " ('University of Rochester', 1),\n",
              " ('Poznan University of Technology', 1),\n",
              " ('TTI-Chicago', 1),\n",
              " ('University of Chicago', 1),\n",
              " ('Aalto Univeristy', 1),\n",
              " ('Sharif University of Technology', 1),\n",
              " ('Rutgers University', 1),\n",
              " ('Yonsei University', 1),\n",
              " ('University of Denver', 1),\n",
              " ('Western Sydney University', 1),\n",
              " ('KAIST', 1),\n",
              " ('Nanjing University of Science and Technology', 1),\n",
              " ('Nanjing University', 1),\n",
              " ('The University of Manchester', 1),\n",
              " ('Yunnan University', 1),\n",
              " ('National Taipei University of Technology', 1),\n",
              " ('Federal University of Rio de Janeiro', 1),\n",
              " ('University of Bonn', 1),\n",
              " ('Universitat Paris-Est', 1),\n",
              " ('EcoledesPonts Paris Tech', 1),\n",
              " ('Islamic Azad University', 1),\n",
              " ('Jinan University', 1),\n",
              " ('Ecole Normale', 1),\n",
              " ('CNRS', 1),\n",
              " ('Institut Polytechnique de Paris', 1),\n",
              " ('Universite Paris-Saclay', 1),\n",
              " ('Aix Marseille University', 1),\n",
              " ('University of Athens', 1),\n",
              " ('Imperial College London', 1),\n",
              " ('University of Maryland CollegePark', 1),\n",
              " ('University College London', 1),\n",
              " ('Shanghai Jiao Tong University', 1),\n",
              " ('VJTI', 1),\n",
              " ('Pace University', 1),\n",
              " ('Czech Technical University in Prague', 1),\n",
              " ('SunYat-sen University', 1),\n",
              " ('NERSC', 1),\n",
              " ('Johannes Kepler University', 1),\n",
              " ('UC Irvine', 1),\n",
              " ('University of Erlangen-Nuremberg', 1),\n",
              " ('Delft University of Technology', 1),\n",
              " ('University of Amsterdam', 1),\n",
              " ('Vrije Universiteit Amsterdam', 1),\n",
              " ('University of Science and Technology China', 1),\n",
              " ('UT Austin', 1),\n",
              " ('University of Central Florida', 1),\n",
              " ('University of Virginia', 1),\n",
              " ('National University of Singapore', 1),\n",
              " ('Universite de Sherbrooke', 1),\n",
              " ('University of Luebeck', 1),\n",
              " ('University of Alberta', 1),\n",
              " ('Louisiana State University', 1),\n",
              " ('UC Berkeley', 1),\n",
              " ('Shanghai Tech University', 1),\n",
              " ('Universitat Rovira i Virgili', 1)]"
            ]
          },
          "metadata": {},
          "execution_count": 257
        }
      ]
    },
    {
      "cell_type": "code",
      "metadata": {
        "colab": {
          "base_uri": "https://localhost:8080/"
        },
        "id": "UtwMw290CDAp",
        "outputId": "ad7579d3-a406-42b4-96f0-9292c1ae7f0a"
      },
      "source": [
        "academia_country = {}\n",
        "\n",
        "# collecting older ones\n",
        "academia_country_csv = pd.read_csv('/content/drive/MyDrive/Research/BCS2 Lab/Papers With Code Test/updated_academia_country.csv', encoding='latin-1')\n",
        "academia_country_already_enlisted = {}\n",
        "\n",
        "for i in range(len(academia_country_csv['University'])):\n",
        "  academia_country_already_enlisted[academia_country_csv['University'][i]] = academia_country_csv['Country'][i]\n",
        "\n",
        "# print(len(academia_country_already_enlisted))\n",
        "\n",
        "# creating new one\n",
        "\n",
        "# academia_country_already_enlisted['Arizona State University'] = 'USA'\n",
        "# academia_country_already_enlisted['BUPT'] = 'China'\n",
        "# academia_country_already_enlisted['ETRI'] = 'South Korea'\n",
        "# academia_country_already_enlisted['Hacettepe University'] = 'Turkey'\n",
        "# academia_country_already_enlisted['Institute of Information Science Academia Sinica'] = 'Taiwan'\n",
        "# academia_country_already_enlisted['KAIST'] = 'South Korea'\n",
        "# academia_country_already_enlisted['Macau University of Science and Technology'] = 'China'\n",
        "# academia_country_already_enlisted['Middle East Technical University'] = 'Turkey'\n",
        "# academia_country_already_enlisted['Northwestern Polytechnical University'] = 'China'\n",
        "# academia_country_already_enlisted['Peng Cheng Laboratory'] = 'China'\n",
        "# academia_country_already_enlisted['Providence University'] = 'Taiwan'\n",
        "# academia_country_already_enlisted['RIKEN'] = 'Japan'\n",
        "# academia_country_already_enlisted['South China University of Technology'] = 'China'\n",
        "# academia_country_already_enlisted['Shenzhen Institutes of Advanced Technology'] = 'China'\n",
        "# academia_country_already_enlisted['Temple University'] = 'USA'\n",
        "# academia_country_already_enlisted['UNC Chapel Hill'] = 'USA'\n",
        "# academia_country_already_enlisted['University of Michigan'] = 'USA'\n",
        "# academia_country_already_enlisted['University of Warwick'] = 'UK'\n",
        "# academia_country_already_enlisted['University of Waterloo'] = 'Canada'\n",
        "# academia_country_already_enlisted['University of Winscon-Madison'] = 'USA'\n",
        "# academia_country_already_enlisted['Waseda University'] = 'Japan'\n",
        "# academia_country_already_enlisted['Westlake University'] = 'China'\n",
        "# academia_country_already_enlisted['Xiamen University'] = 'China'\n",
        "\n",
        "\n",
        "for i in unique_academia:\n",
        "  if i in academia_country_already_enlisted:\n",
        "    academia_country[i] = academia_country_already_enlisted[i]\n",
        "\n",
        "print(len(academia_country))\n",
        "academia_country"
      ],
      "execution_count": 258,
      "outputs": [
        {
          "output_type": "stream",
          "name": "stdout",
          "text": [
            "108\n"
          ]
        },
        {
          "output_type": "execute_result",
          "data": {
            "text/plain": [
              "{'Aalto Univeristy': 'Finland',\n",
              " 'Aix Marseille University': 'France',\n",
              " 'Beihang University': 'China',\n",
              " 'Beijing Academy of Intelligence': 'China',\n",
              " 'Beijing National Research Center for Information Science and Technology': 'China',\n",
              " 'Brown University': 'USA',\n",
              " 'CNRS': 'France',\n",
              " 'Carnegie Mellon University': 'USA',\n",
              " 'Cornell University': 'USA',\n",
              " 'Czech Technical University in Prague': 'Czech Republic',\n",
              " 'Delft University of Technology': 'Netherlands',\n",
              " 'EPFL': 'Switzerland',\n",
              " 'ETH Zurich': 'Switzerland',\n",
              " 'Ecole Normale': 'France',\n",
              " 'EcoledesPonts Paris Tech': 'France',\n",
              " 'Federal University of Rio de Janeiro': 'Brazil',\n",
              " 'HKUST': 'Hong Kong',\n",
              " 'Harvard University': 'USA',\n",
              " 'Higher School of Economics': 'Russia',\n",
              " 'IDSIA': 'Switzerland',\n",
              " 'IIT Bombay': 'India',\n",
              " 'Imperial College London': 'UK',\n",
              " 'Inria': 'France',\n",
              " 'Institut Polytechnique de Paris': 'France',\n",
              " 'Institute For Research In Fundamental Sciences': 'Iran',\n",
              " 'Islamic Azad University': 'Iran',\n",
              " 'Jinan University': 'China',\n",
              " 'Johannes Kepler University': 'Austria',\n",
              " 'KAIST': 'South Korea',\n",
              " 'KIIT': 'India',\n",
              " 'Lomonosov Moscow State University': 'Russia',\n",
              " 'Louisiana State University': 'USA',\n",
              " 'MIT': 'USA',\n",
              " 'McGill University': 'USA',\n",
              " 'Michigan State University': 'USA',\n",
              " 'Mila - Quebec AI Institute': 'Canada',\n",
              " 'NERSC': 'USA',\n",
              " 'Nanjing University': 'China',\n",
              " 'Nanjing University of Science and Technology': 'China',\n",
              " 'Nanyang Technological University': 'Singapore',\n",
              " 'National Chiao Tung University': 'Taiwan',\n",
              " 'National Taipei University of Technology': 'Taiwan',\n",
              " 'National University of Singapore': 'Singapore',\n",
              " 'New York University': 'USA',\n",
              " 'Pace University': 'USA',\n",
              " 'Peking University': 'China',\n",
              " 'Polytechnique Montreal': 'Canada',\n",
              " 'Poznan University of Technology': 'Poland',\n",
              " 'Purdue University': 'USA',\n",
              " 'Rutgers University': 'USA',\n",
              " 'Shanghai Jiao Tong University': 'China',\n",
              " 'Shanghai Tech University': 'China',\n",
              " 'Sharif University of Technology': 'Iran',\n",
              " 'Sorbonne University': 'France',\n",
              " 'Southern University of Science and Technology': 'China',\n",
              " 'Stanford University': 'USA',\n",
              " 'Stony Brook University': 'USA',\n",
              " 'SunYat-sen University': 'China',\n",
              " 'TTI-Chicago': 'USA',\n",
              " 'The Chinese University of Hong Kong': 'Hong Kong',\n",
              " 'The University of Adelaide': 'Australia',\n",
              " 'The University of Manchester': 'UK',\n",
              " 'Tsinghua University': 'China',\n",
              " 'UC Berkeley': 'USA',\n",
              " 'UC Irvine': 'USA',\n",
              " 'UC San Diego': 'USA',\n",
              " 'UCLA': 'USA',\n",
              " 'UIUC': 'USA',\n",
              " 'UT Austin': 'USA',\n",
              " 'Universitat Paris-Est': 'France',\n",
              " 'Universitat Rovira i Virgili': 'Spain',\n",
              " 'Universite Paris-Saclay': 'France',\n",
              " 'Universite de Sherbrooke': 'Canada',\n",
              " 'University College London': 'UK',\n",
              " 'University of Alberta': 'Canada',\n",
              " 'University of Amsterdam': 'Netherlands',\n",
              " 'University of Athens': 'Greece',\n",
              " 'University of Bonn': 'Germany',\n",
              " 'University of Central Florida': 'USA',\n",
              " 'University of Chicago': 'USA',\n",
              " 'University of Chinese Academy of Sciences': 'China',\n",
              " 'University of Coimbra': 'Portugal',\n",
              " 'University of Denver': 'USA',\n",
              " 'University of Erlangen-Nuremberg': 'Germany',\n",
              " 'University of Freiburg': 'Germany',\n",
              " 'University of Luebeck': 'Germany',\n",
              " 'University of Macau': 'China',\n",
              " 'University of Maryland CollegePark': 'USA',\n",
              " 'University of Montreal': 'Canada',\n",
              " 'University of Oregon': 'USA',\n",
              " 'University of Ottawa': 'Canada',\n",
              " 'University of Oxford': 'UK',\n",
              " 'University of Rochester': 'USA',\n",
              " 'University of Science and Technology China': 'China',\n",
              " 'University of South Australia': 'Australia',\n",
              " 'University of Southampton': 'UK',\n",
              " 'University of Southern California': 'USA',\n",
              " 'University of Toronto': 'Canada',\n",
              " 'University of Virginia': 'USA',\n",
              " 'University of Warwick': 'UK',\n",
              " 'University of Washington': 'USA',\n",
              " 'University of Zurich': 'Switzerland',\n",
              " 'VJTI': 'India',\n",
              " 'Vrije Universiteit Amsterdam': 'Netherlands',\n",
              " 'Western Sydney University': 'Australia',\n",
              " 'Yonsei University': 'South Korea',\n",
              " 'Yunnan University': 'China',\n",
              " 'Zhejiang University': 'China'}"
            ]
          },
          "metadata": {},
          "execution_count": 258
        }
      ]
    },
    {
      "cell_type": "code",
      "metadata": {
        "colab": {
          "base_uri": "https://localhost:8080/"
        },
        "id": "JaeLFkqkYBBt",
        "outputId": "c3b447bf-3f35-4ebd-8b63-98cadc428a23"
      },
      "source": [
        "country_count_2 = {}\n",
        "for i in academia_count:\n",
        "  j = i[0]\n",
        "  for k in academia_country.keys():\n",
        "    if j == k:\n",
        "      country = academia_country[k]\n",
        "      if country not in country_count_2:\n",
        "        country_count_2[country] = i[1]\n",
        "      else:\n",
        "        count = country_count_2[country]\n",
        "        count = count + i[1]\n",
        "        country_count_2[country] = count\n",
        "country_count_2_sort = sorted(country_count_2.items(), key = lambda kv: kv[1], reverse = True)\n",
        "\n",
        "print(sum(i[1] for i in country_count_2_sort))\n",
        "country_count_2_sort"
      ],
      "execution_count": 259,
      "outputs": [
        {
          "output_type": "stream",
          "name": "stdout",
          "text": [
            "221\n"
          ]
        },
        {
          "output_type": "execute_result",
          "data": {
            "text/plain": [
              "[('USA', 80),\n",
              " ('China', 35),\n",
              " ('Canada', 16),\n",
              " ('France', 15),\n",
              " ('India', 9),\n",
              " ('Hong Kong', 9),\n",
              " ('Switzerland', 9),\n",
              " ('UK', 8),\n",
              " ('Germany', 6),\n",
              " ('Australia', 5),\n",
              " ('Singapore', 4),\n",
              " ('Taiwan', 4),\n",
              " ('Russia', 4),\n",
              " ('Iran', 4),\n",
              " ('Netherlands', 3),\n",
              " ('South Korea', 2),\n",
              " ('Portugal', 1),\n",
              " ('Poland', 1),\n",
              " ('Finland', 1),\n",
              " ('Brazil', 1),\n",
              " ('Greece', 1),\n",
              " ('Czech Republic', 1),\n",
              " ('Austria', 1),\n",
              " ('Spain', 1)]"
            ]
          },
          "metadata": {},
          "execution_count": 259
        }
      ]
    },
    {
      "cell_type": "markdown",
      "source": [
        "# Country"
      ],
      "metadata": {
        "id": "ImnpGZArLvao"
      }
    },
    {
      "cell_type": "code",
      "source": [
        "def isNaN (num):\n",
        "  return num!=num\n",
        "\n",
        "# filling up countries with industry affiliation\n",
        "country_list = []\n",
        "for i in df['Industry Affiliation']:\n",
        "  #print(i)\n",
        "  countries = []\n",
        "  if not isNaN(i):\n",
        "    i = i.strip()\n",
        "    i = i.split(', ')\n",
        "    for j in i:\n",
        "      if j in industry_country.keys():\n",
        "        if industry_country[j] not in countries:\n",
        "          countries.append(industry_country[j])\n",
        "    #print(countries)\n",
        "    country_list.append(countries)\n",
        "  else:\n",
        "    #print(i, countries)\n",
        "    country_list.append(countries)\n",
        "print(country_list)\n",
        "\n",
        "# filling up countries with academia affiliation\n",
        "j = 0\n",
        "for i in df['Academia Affiliation']:\n",
        "    already_country = country_list[j]\n",
        "    if not isNaN(i):\n",
        "      i = i.strip()\n",
        "      i = i.split(', ')\n",
        "      for k in i:\n",
        "        if k in academia_country.keys():\n",
        "          if academia_country[k] not in already_country:\n",
        "            already_country.append(academia_country[k])\n",
        "      #print(already_country)\n",
        "      country_list[j] = already_country\n",
        "    else:\n",
        "      #print(already_country)\n",
        "      country_list[j] = already_country\n",
        "\n",
        "    j=j+1\n",
        "print(country_list)"
      ],
      "metadata": {
        "colab": {
          "base_uri": "https://localhost:8080/"
        },
        "id": "mvQN-4Po_F-G",
        "outputId": "88dacb7d-5ac9-4b55-a59f-dc09aa472764"
      },
      "execution_count": 260,
      "outputs": [
        {
          "output_type": "stream",
          "name": "stdout",
          "text": [
            "[['USA'], ['USA'], ['USA'], ['USA'], ['Hong Kong'], ['China'], ['China'], ['USA'], ['USA'], ['USA'], ['USA'], ['USA'], ['Hong Kong'], [], ['USA'], ['USA'], ['USA'], [], ['USA', 'France'], ['USA'], ['South Korea'], [], ['USA'], ['USA'], ['USA'], ['USA'], ['China'], [], ['Hong Kong'], [], [], [], [], ['USA'], ['South Korea'], ['China'], ['USA'], ['USA'], ['USA'], [], ['USA'], ['USA', 'France'], [], ['USA'], ['USA'], ['USA'], [], ['USA'], ['USA'], [], ['USA'], ['China'], [], ['Germany'], ['USA'], ['France'], [], ['USA'], ['China'], ['USA'], [], ['USA'], [], ['USA'], [], [], [], ['USA'], ['USA'], ['USA'], ['South Korea'], ['South Korea'], [], [], [], [], ['USA'], ['South Korea'], [], [], [], ['USA'], ['China'], [], [], [], ['USA'], ['Norway'], [], [], ['Iran', 'France'], [], [], ['USA'], [], ['Germany'], [], ['USA'], ['France', 'Belgium'], ['USA'], [], ['China'], ['USA'], ['USA'], ['South Korea'], ['USA'], [], ['France'], [], [], ['USA'], [], [], ['USA'], [], [], ['Canada', 'USA'], [], [], [], [], [], [], [], [], ['USA', 'UK'], ['USA'], [], [], [], [], ['USA'], [], [], [], [], [], [], ['USA'], [], [], [], [], [], [], [], [], [], [], ['Japan'], ['USA'], [], [], [], [], [], [], [], [], [], [], [], [], ['USA'], [], [], ['USA'], [], [], [], [], [], [], [], ['USA'], []]\n",
            "[['USA'], ['USA', 'France'], ['USA'], ['USA'], ['Hong Kong', 'Singapore'], ['China', 'USA'], ['China'], ['USA', 'France'], ['USA'], ['USA'], ['USA'], ['USA'], ['Hong Kong', 'Singapore'], ['China'], ['USA'], ['USA'], ['USA'], ['Hong Kong', 'China'], ['USA', 'France'], ['USA'], ['South Korea'], ['UK'], ['USA'], ['USA'], ['USA'], ['USA'], ['China'], ['Portugal'], ['Hong Kong', 'Singapore'], ['China', 'USA'], ['Hong Kong', 'China'], ['Hong Kong', 'China'], ['Hong Kong', 'China'], ['USA', 'France'], ['South Korea'], ['China'], ['USA'], ['USA'], ['USA'], ['China', 'USA'], ['USA'], ['USA', 'France'], ['China', 'Canada'], ['USA'], ['USA'], ['USA'], ['USA'], ['USA'], ['USA'], ['China', 'USA'], ['USA'], ['China', 'UK'], ['China'], ['Germany'], ['USA'], ['France'], ['China'], ['USA'], ['China'], ['USA'], ['Poland'], ['USA'], ['USA'], ['USA', 'Finland', 'Canada', 'Iran'], ['Switzerland'], ['USA'], ['China', 'USA'], ['USA'], ['USA'], ['USA'], ['South Korea', 'Russia', 'USA'], ['South Korea'], ['USA'], ['USA'], ['China'], ['Switzerland'], ['USA'], ['South Korea', 'Russia', 'USA'], ['USA', 'Australia'], ['South Korea'], ['Taiwan'], ['USA', 'China'], ['China'], ['UK'], ['China'], ['UK', 'China', 'Taiwan'], ['USA'], ['Norway'], ['Brazil'], ['China'], ['Iran', 'France', 'Germany'], ['USA'], ['France'], ['USA'], ['China', 'Canada'], ['Germany'], ['Germany'], ['USA'], ['France', 'Belgium', 'Iran'], ['USA'], ['USA'], ['China', 'Canada', 'Hong Kong'], ['USA'], ['USA', 'France'], ['South Korea'], ['USA'], ['USA'], ['France'], ['Greece', 'Switzerland', 'UK'], ['China', 'USA'], ['USA'], ['USA'], ['China'], ['USA'], ['UK', 'China'], ['India'], ['Canada', 'USA'], ['China'], ['USA'], ['Czech Republic'], ['India'], ['USA'], ['China', 'USA'], ['Switzerland'], ['UK'], ['USA', 'UK'], ['USA', 'Canada'], ['Austria'], ['Taiwan'], ['USA'], ['Australia'], ['USA'], ['Switzerland'], ['Germany'], ['USA'], ['Netherlands'], ['China', 'USA'], ['India'], ['USA'], ['Canada'], ['USA'], ['Australia'], ['USA'], ['USA'], ['Singapore'], ['Switzerland'], ['Canada'], ['Germany'], ['Canada', 'USA'], ['Japan'], ['USA'], ['Germany'], ['Canada'], ['Switzerland'], ['Canada', 'USA', 'Hong Kong'], ['Canada'], ['USA'], ['USA'], ['Canada'], ['India'], ['India'], ['India'], ['USA'], ['USA'], ['Germany'], ['USA'], ['USA'], ['USA'], ['China', 'USA'], ['Australia'], ['India'], ['India'], ['India'], ['UK'], ['USA'], ['Spain']]\n"
          ]
        }
      ]
    },
    {
      "cell_type": "code",
      "source": [
        "country_string = []\n",
        "for i in country_list:\n",
        "  string = ', '.join(i)\n",
        "  country_string.append(string)\n",
        "df['Country'] = country_string\n",
        "df"
      ],
      "metadata": {
        "colab": {
          "base_uri": "https://localhost:8080/",
          "height": 0
        },
        "id": "We354Dp8_d7W",
        "outputId": "da0d53a7-513a-4b12-edc1-e0f66bd443c4"
      },
      "execution_count": 261,
      "outputs": [
        {
          "output_type": "execute_result",
          "data": {
            "text/html": [
              "\n",
              "  <div id=\"df-c67e4bca-9175-4434-b6e9-4d887de1c682\">\n",
              "    <div class=\"colab-df-container\">\n",
              "      <div>\n",
              "<style scoped>\n",
              "    .dataframe tbody tr th:only-of-type {\n",
              "        vertical-align: middle;\n",
              "    }\n",
              "\n",
              "    .dataframe tbody tr th {\n",
              "        vertical-align: top;\n",
              "    }\n",
              "\n",
              "    .dataframe thead th {\n",
              "        text-align: right;\n",
              "    }\n",
              "</style>\n",
              "<table border=\"1\" class=\"dataframe\">\n",
              "  <thead>\n",
              "    <tr style=\"text-align: right;\">\n",
              "      <th></th>\n",
              "      <th>model</th>\n",
              "      <th>paper-title href</th>\n",
              "      <th>accuracy</th>\n",
              "      <th>parameters</th>\n",
              "      <th>github href</th>\n",
              "      <th>paper href</th>\n",
              "      <th>paper title</th>\n",
              "      <th>year</th>\n",
              "      <th>Industry Affiliation</th>\n",
              "      <th>Academia Affiliation</th>\n",
              "      <th>Country</th>\n",
              "      <th>Extra Training Data</th>\n",
              "    </tr>\n",
              "  </thead>\n",
              "  <tbody>\n",
              "    <tr>\n",
              "      <th>0</th>\n",
              "      <td>ViT-H/14</td>\n",
              "      <td>https://paperswithcode.com/paper/an-image-is-w...</td>\n",
              "      <td>99.50±0.06</td>\n",
              "      <td>632M</td>\n",
              "      <td>https://paperswithcode.com/paper/an-image-is-w...</td>\n",
              "      <td>https://paperswithcode.com/paper/an-image-is-w...</td>\n",
              "      <td>An Image is Worth 16x16 Words: Transformers fo...</td>\n",
              "      <td>2020</td>\n",
              "      <td>Google</td>\n",
              "      <td>NaN</td>\n",
              "      <td>USA</td>\n",
              "      <td>Yes</td>\n",
              "    </tr>\n",
              "    <tr>\n",
              "      <th>1</th>\n",
              "      <td>CaiT-M-36 U 224</td>\n",
              "      <td>https://paperswithcode.com/paper/going-deeper-...</td>\n",
              "      <td>99.4</td>\n",
              "      <td>NaN</td>\n",
              "      <td>https://paperswithcode.com/paper/going-deeper-...</td>\n",
              "      <td>https://paperswithcode.com/paper/going-deeper-...</td>\n",
              "      <td>Going deeper with Image Transformers</td>\n",
              "      <td>2021</td>\n",
              "      <td>Facebook AI Research</td>\n",
              "      <td>Sorbonne University</td>\n",
              "      <td>USA, France</td>\n",
              "      <td>Yes</td>\n",
              "    </tr>\n",
              "    <tr>\n",
              "      <th>2</th>\n",
              "      <td>CvT-W24</td>\n",
              "      <td>https://paperswithcode.com/paper/cvt-introduci...</td>\n",
              "      <td>99.39</td>\n",
              "      <td>NaN</td>\n",
              "      <td>https://paperswithcode.com/paper/cvt-introduci...</td>\n",
              "      <td>https://paperswithcode.com/paper/cvt-introduci...</td>\n",
              "      <td>CvT: Introducing Convolutions to Vision Transf...</td>\n",
              "      <td>2021</td>\n",
              "      <td>Microsoft Cloud AI</td>\n",
              "      <td>McGill University</td>\n",
              "      <td>USA</td>\n",
              "      <td>Yes</td>\n",
              "    </tr>\n",
              "    <tr>\n",
              "      <th>3</th>\n",
              "      <td>BiT-L</td>\n",
              "      <td>https://paperswithcode.com/paper/large-scale-l...</td>\n",
              "      <td>99.37</td>\n",
              "      <td>NaN</td>\n",
              "      <td>https://paperswithcode.com/paper/large-scale-l...</td>\n",
              "      <td>https://paperswithcode.com/paper/large-scale-l...</td>\n",
              "      <td>Big Transfer (BiT): General Visual Representat...</td>\n",
              "      <td>2019</td>\n",
              "      <td>Google</td>\n",
              "      <td>NaN</td>\n",
              "      <td>USA</td>\n",
              "      <td>Yes</td>\n",
              "    </tr>\n",
              "    <tr>\n",
              "      <th>4</th>\n",
              "      <td>CeiT-S</td>\n",
              "      <td>https://paperswithcode.com/paper/incorporating...</td>\n",
              "      <td>99.1</td>\n",
              "      <td>NaN</td>\n",
              "      <td>https://paperswithcode.com/paper/incorporating...</td>\n",
              "      <td>https://paperswithcode.com/paper/incorporating...</td>\n",
              "      <td>Incorporating Convolution Designs into Visual ...</td>\n",
              "      <td>2021</td>\n",
              "      <td>SenseTime</td>\n",
              "      <td>Nanyang Technological University, HKUST</td>\n",
              "      <td>Hong Kong, Singapore</td>\n",
              "      <td>Yes</td>\n",
              "    </tr>\n",
              "    <tr>\n",
              "      <th>...</th>\n",
              "      <td>...</td>\n",
              "      <td>...</td>\n",
              "      <td>...</td>\n",
              "      <td>...</td>\n",
              "      <td>...</td>\n",
              "      <td>...</td>\n",
              "      <td>...</td>\n",
              "      <td>...</td>\n",
              "      <td>...</td>\n",
              "      <td>...</td>\n",
              "      <td>...</td>\n",
              "      <td>...</td>\n",
              "    </tr>\n",
              "    <tr>\n",
              "      <th>171</th>\n",
              "      <td>Hybrid PiN</td>\n",
              "      <td>https://paperswithcode.com/paper/vision-xforme...</td>\n",
              "      <td>74</td>\n",
              "      <td>0.990298M</td>\n",
              "      <td>https://paperswithcode.com/paper/vision-xforme...</td>\n",
              "      <td>https://paperswithcode.com/paper/vision-xforme...</td>\n",
              "      <td>Vision Xformers: Efficient Attention for Image...</td>\n",
              "      <td>2021</td>\n",
              "      <td>NaN</td>\n",
              "      <td>IIT Bombay</td>\n",
              "      <td>India</td>\n",
              "      <td>No</td>\n",
              "    </tr>\n",
              "    <tr>\n",
              "      <th>172</th>\n",
              "      <td>Vision Nystromformer</td>\n",
              "      <td>https://paperswithcode.com/paper/vision-xforme...</td>\n",
              "      <td>65.06</td>\n",
              "      <td>0.530970M</td>\n",
              "      <td>https://paperswithcode.com/paper/vision-xforme...</td>\n",
              "      <td>https://paperswithcode.com/paper/vision-xforme...</td>\n",
              "      <td>Vision Xformers: Efficient Attention for Image...</td>\n",
              "      <td>2021</td>\n",
              "      <td>NaN</td>\n",
              "      <td>IIT Bombay</td>\n",
              "      <td>India</td>\n",
              "      <td>No</td>\n",
              "    </tr>\n",
              "    <tr>\n",
              "      <th>173</th>\n",
              "      <td>ANODE</td>\n",
              "      <td>https://paperswithcode.com/paper/augmented-neu...</td>\n",
              "      <td>60.6</td>\n",
              "      <td>NaN</td>\n",
              "      <td>https://paperswithcode.com/paper/augmented-neu...</td>\n",
              "      <td>https://paperswithcode.com/paper/augmented-neu...</td>\n",
              "      <td>Augmented Neural ODEs</td>\n",
              "      <td>2019</td>\n",
              "      <td>NaN</td>\n",
              "      <td>University of Oxford</td>\n",
              "      <td>UK</td>\n",
              "      <td>No</td>\n",
              "    </tr>\n",
              "    <tr>\n",
              "      <th>174</th>\n",
              "      <td>ViT-L/16</td>\n",
              "      <td>https://paperswithcode.com/paper/an-image-is-w...</td>\n",
              "      <td>99.42±0.03</td>\n",
              "      <td>307M</td>\n",
              "      <td>https://paperswithcode.com/paper/an-image-is-w...</td>\n",
              "      <td>https://paperswithcode.com/paper/an-image-is-w...</td>\n",
              "      <td>An Image is Worth 16x16 Words: Transformers fo...</td>\n",
              "      <td>2020</td>\n",
              "      <td>Google Brain</td>\n",
              "      <td>NaN</td>\n",
              "      <td>USA</td>\n",
              "      <td>Yes</td>\n",
              "    </tr>\n",
              "    <tr>\n",
              "      <th>175</th>\n",
              "      <td>kEffNet-B0</td>\n",
              "      <td>https://paperswithcode.com/paper/grouped-point...</td>\n",
              "      <td>639,702</td>\n",
              "      <td>NaN</td>\n",
              "      <td>https://paperswithcode.com/paper/grouped-point...</td>\n",
              "      <td>https://paperswithcode.com/paper/grouped-point...</td>\n",
              "      <td>Grouped Pointwise Convolutions Significantly R...</td>\n",
              "      <td>2021</td>\n",
              "      <td>NaN</td>\n",
              "      <td>Universitat Rovira i Virgili</td>\n",
              "      <td>Spain</td>\n",
              "      <td>No</td>\n",
              "    </tr>\n",
              "  </tbody>\n",
              "</table>\n",
              "<p>176 rows × 12 columns</p>\n",
              "</div>\n",
              "      <button class=\"colab-df-convert\" onclick=\"convertToInteractive('df-c67e4bca-9175-4434-b6e9-4d887de1c682')\"\n",
              "              title=\"Convert this dataframe to an interactive table.\"\n",
              "              style=\"display:none;\">\n",
              "        \n",
              "  <svg xmlns=\"http://www.w3.org/2000/svg\" height=\"24px\"viewBox=\"0 0 24 24\"\n",
              "       width=\"24px\">\n",
              "    <path d=\"M0 0h24v24H0V0z\" fill=\"none\"/>\n",
              "    <path d=\"M18.56 5.44l.94 2.06.94-2.06 2.06-.94-2.06-.94-.94-2.06-.94 2.06-2.06.94zm-11 1L8.5 8.5l.94-2.06 2.06-.94-2.06-.94L8.5 2.5l-.94 2.06-2.06.94zm10 10l.94 2.06.94-2.06 2.06-.94-2.06-.94-.94-2.06-.94 2.06-2.06.94z\"/><path d=\"M17.41 7.96l-1.37-1.37c-.4-.4-.92-.59-1.43-.59-.52 0-1.04.2-1.43.59L10.3 9.45l-7.72 7.72c-.78.78-.78 2.05 0 2.83L4 21.41c.39.39.9.59 1.41.59.51 0 1.02-.2 1.41-.59l7.78-7.78 2.81-2.81c.8-.78.8-2.07 0-2.86zM5.41 20L4 18.59l7.72-7.72 1.47 1.35L5.41 20z\"/>\n",
              "  </svg>\n",
              "      </button>\n",
              "      \n",
              "  <style>\n",
              "    .colab-df-container {\n",
              "      display:flex;\n",
              "      flex-wrap:wrap;\n",
              "      gap: 12px;\n",
              "    }\n",
              "\n",
              "    .colab-df-convert {\n",
              "      background-color: #E8F0FE;\n",
              "      border: none;\n",
              "      border-radius: 50%;\n",
              "      cursor: pointer;\n",
              "      display: none;\n",
              "      fill: #1967D2;\n",
              "      height: 32px;\n",
              "      padding: 0 0 0 0;\n",
              "      width: 32px;\n",
              "    }\n",
              "\n",
              "    .colab-df-convert:hover {\n",
              "      background-color: #E2EBFA;\n",
              "      box-shadow: 0px 1px 2px rgba(60, 64, 67, 0.3), 0px 1px 3px 1px rgba(60, 64, 67, 0.15);\n",
              "      fill: #174EA6;\n",
              "    }\n",
              "\n",
              "    [theme=dark] .colab-df-convert {\n",
              "      background-color: #3B4455;\n",
              "      fill: #D2E3FC;\n",
              "    }\n",
              "\n",
              "    [theme=dark] .colab-df-convert:hover {\n",
              "      background-color: #434B5C;\n",
              "      box-shadow: 0px 1px 3px 1px rgba(0, 0, 0, 0.15);\n",
              "      filter: drop-shadow(0px 1px 2px rgba(0, 0, 0, 0.3));\n",
              "      fill: #FFFFFF;\n",
              "    }\n",
              "  </style>\n",
              "\n",
              "      <script>\n",
              "        const buttonEl =\n",
              "          document.querySelector('#df-c67e4bca-9175-4434-b6e9-4d887de1c682 button.colab-df-convert');\n",
              "        buttonEl.style.display =\n",
              "          google.colab.kernel.accessAllowed ? 'block' : 'none';\n",
              "\n",
              "        async function convertToInteractive(key) {\n",
              "          const element = document.querySelector('#df-c67e4bca-9175-4434-b6e9-4d887de1c682');\n",
              "          const dataTable =\n",
              "            await google.colab.kernel.invokeFunction('convertToInteractive',\n",
              "                                                     [key], {});\n",
              "          if (!dataTable) return;\n",
              "\n",
              "          const docLinkHtml = 'Like what you see? Visit the ' +\n",
              "            '<a target=\"_blank\" href=https://colab.research.google.com/notebooks/data_table.ipynb>data table notebook</a>'\n",
              "            + ' to learn more about interactive tables.';\n",
              "          element.innerHTML = '';\n",
              "          dataTable['output_type'] = 'display_data';\n",
              "          await google.colab.output.renderOutput(dataTable, element);\n",
              "          const docLink = document.createElement('div');\n",
              "          docLink.innerHTML = docLinkHtml;\n",
              "          element.appendChild(docLink);\n",
              "        }\n",
              "      </script>\n",
              "    </div>\n",
              "  </div>\n",
              "  "
            ],
            "text/plain": [
              "                    model  ... Extra Training Data\n",
              "0                ViT-H/14  ...                 Yes\n",
              "1         CaiT-M-36 U 224  ...                 Yes\n",
              "2                 CvT-W24  ...                 Yes\n",
              "3                   BiT-L  ...                 Yes\n",
              "4                  CeiT-S  ...                 Yes\n",
              "..                    ...  ...                 ...\n",
              "171            Hybrid PiN  ...                  No\n",
              "172  Vision Nystromformer  ...                  No\n",
              "173                 ANODE  ...                  No\n",
              "174              ViT-L/16  ...                 Yes\n",
              "175            kEffNet-B0  ...                  No\n",
              "\n",
              "[176 rows x 12 columns]"
            ]
          },
          "metadata": {},
          "execution_count": 261
        }
      ]
    },
    {
      "cell_type": "code",
      "source": [
        "df.to_csv('/content/drive/MyDrive/Research/BCS2 Lab/Papers With Code Test/Image Classification/ImageNet/v3.csv')"
      ],
      "metadata": {
        "id": "hUK0UN18McM8"
      },
      "execution_count": 262,
      "outputs": []
    },
    {
      "cell_type": "markdown",
      "metadata": {
        "id": "KaP_6XKhYraV"
      },
      "source": [
        "# Result and Visualization"
      ]
    },
    {
      "cell_type": "code",
      "metadata": {
        "colab": {
          "base_uri": "https://localhost:8080/"
        },
        "id": "YgCyZ1idYqh_",
        "outputId": "56da1d88-4c0b-41b9-e25b-96d5de06dfb6"
      },
      "source": [
        "# industry_count\n",
        "xi_companies = []\n",
        "yi_company_count = []\n",
        "for i in unique_industry.keys():\n",
        "  xi_companies.append(i)\n",
        "  yi_company_count.append(unique_industry[i])\n",
        "# yi_company_count\n",
        "fig = plt.figure()\n",
        "ax = fig.add_axes([0,0,1,1])\n",
        "plt.ylim(0, 10)\n",
        "ax.bar(xi_companies, yi_company_count, width=0.7)\n",
        "plt.xticks(rotation = 90)\n",
        "plt.title('Company Count')\n",
        "plt.show()"
      ],
      "execution_count": null,
      "outputs": [
        {
          "output_type": "display_data",
          "data": {
            "image/png": "[encoded data removed]",
            "text/plain": [
              "<Figure size 432x288 with 1 Axes>"
            ]
          },
          "metadata": {
            "needs_background": "light"
          }
        }
      ]
    },
    {
      "cell_type": "code",
      "metadata": {
        "colab": {
          "base_uri": "https://localhost:8080/"
        },
        "id": "Al0wOElTblDJ",
        "outputId": "a808ee7d-2fbb-4f07-8bd6-b08b437116ab"
      },
      "source": [
        "# academia_count\n",
        "xa_varsities = []\n",
        "ya_varsity_count = []\n",
        "for i in unique_academia.keys():\n",
        "  xa_varsities.append(i)\n",
        "  ya_varsity_count.append(unique_academia[i])\n",
        "# xa_companies\n",
        "fig = plt.figure()\n",
        "ax = fig.add_axes([0,0,1,1])\n",
        "ax.bar(xa_varsities, ya_varsity_count)\n",
        "# plt.ylim(0, 20)\n",
        "plt.xticks(rotation = 90)\n",
        "plt.title('Varsity Count')\n",
        "plt.show()"
      ],
      "execution_count": null,
      "outputs": [
        {
          "output_type": "display_data",
          "data": {
            "image/png": "[encoded data removed]",
            "text/plain": [
              "<Figure size 432x288 with 1 Axes>"
            ]
          },
          "metadata": {
            "needs_background": "light"
          }
        }
      ]
    },
    {
      "cell_type": "code",
      "source": [
        "clear_academia_count = {}\n",
        "for i in unique_academia.keys():\n",
        "    if unique_academia[i] > 1:\n",
        "        clear_academia_count[i] = unique_academia[i]\n",
        "clear_academia_count\n",
        "\n",
        "xa_varsities = []\n",
        "ya_varsity_count = []\n",
        "for i in clear_academia_count.keys():\n",
        "  xa_varsities.append(i)\n",
        "  ya_varsity_count.append(clear_academia_count[i])\n",
        "# xa_companies\n",
        "fig = plt.figure()\n",
        "ax = fig.add_axes([0,0,1,1])\n",
        "ax.bar(xa_varsities, ya_varsity_count)\n",
        "plt.xticks(rotation = 90)\n",
        "plt.title('Varsity Count (At Least 2 Contributions)')\n",
        "plt.show()"
      ],
      "metadata": {
        "colab": {
          "base_uri": "https://localhost:8080/"
        },
        "id": "4M4bZJOlo9F4",
        "outputId": "f1cee2bb-14e1-434d-a6db-d56a9ad25e0a"
      },
      "execution_count": null,
      "outputs": [
        {
          "output_type": "display_data",
          "data": {
            "image/png": "[encoded data removed]",
            "text/plain": [
              "<Figure size 432x288 with 1 Axes>"
            ]
          },
          "metadata": {
            "needs_background": "light"
          }
        }
      ]
    },
    {
      "cell_type": "code",
      "metadata": {
        "colab": {
          "base_uri": "https://localhost:8080/"
        },
        "id": "5ZZgnHi9eav3",
        "outputId": "f4193b2c-1065-454f-f95a-3dece4eb2062"
      },
      "source": [
        "# country_count\n",
        "import matplotlib as mt\n",
        "xi_countries = []\n",
        "yi_country_count = []\n",
        "for i in country_count.keys():\n",
        "  xi_countries.append(i)\n",
        "  yi_country_count.append(country_count[i])\n",
        "# yi_company_count\n",
        "fig = plt.figure()\n",
        "ax = fig.add_axes([0,0,1,1])\n",
        "plt.ylim(0, 30)\n",
        "# rec = mt.patches.Rectangle((0,0), 10000000, 300)\n",
        "ax.bar(xi_countries, yi_country_count, width = 0.9)\n",
        "plt.xticks(rotation = 90)\n",
        "\n",
        "plt.title('Country Count (Industry)')\n",
        "plt.show()"
      ],
      "execution_count": null,
      "outputs": [
        {
          "output_type": "display_data",
          "data": {
            "image/png": "[encoded data removed]",
            "text/plain": [
              "<Figure size 432x288 with 1 Axes>"
            ]
          },
          "metadata": {
            "needs_background": "light"
          }
        }
      ]
    },
    {
      "cell_type": "code",
      "metadata": {
        "colab": {
          "base_uri": "https://localhost:8080/"
        },
        "id": "AH-kFpwDecEX",
        "outputId": "b1835402-f94a-4f14-b857-a7ae4abc43cf"
      },
      "source": [
        "# country_count\n",
        "xa_countries = []\n",
        "ya_country_count = []\n",
        "for i in country_count_2.keys():\n",
        "  xa_countries.append(i)\n",
        "  ya_country_count.append(country_count_2[i])\n",
        "# yi_company_count\n",
        "fig = plt.figure()\n",
        "ax = fig.add_axes([0,0,1,1])\n",
        "ax.bar(xa_countries, ya_country_count, width = 0.9)\n",
        "plt.ylim(0, 25)\n",
        "plt.xticks(rotation = 90)\n",
        "plt.title('Country Count (Academia)')\n",
        "plt.show()"
      ],
      "execution_count": null,
      "outputs": [
        {
          "output_type": "display_data",
          "data": {
            "image/png": "[encoded data removed]",
            "text/plain": [
              "<Figure size 432x288 with 1 Axes>"
            ]
          },
          "metadata": {
            "needs_background": "light"
          }
        }
      ]
    },
    {
      "cell_type": "markdown",
      "source": [
        "# Parameters-GDP"
      ],
      "metadata": {
        "id": "qzxebtsX9mdq"
      }
    },
    {
      "cell_type": "code",
      "source": [
        "param_list = df['parameters']\n",
        "param_list"
      ],
      "metadata": {
        "colab": {
          "base_uri": "https://localhost:8080/"
        },
        "id": "D9IKyFIY9AtS",
        "outputId": "57fdd7ff-ad31-4e41-8890-86755c7ad026"
      },
      "execution_count": 264,
      "outputs": [
        {
          "output_type": "execute_result",
          "data": {
            "text/plain": [
              "0           632M\n",
              "1            NaN\n",
              "2            NaN\n",
              "3            NaN\n",
              "4            NaN\n",
              "         ...    \n",
              "171    0.990298M\n",
              "172    0.530970M\n",
              "173          NaN\n",
              "174         307M\n",
              "175          NaN\n",
              "Name: parameters, Length: 176, dtype: object"
            ]
          },
          "metadata": {},
          "execution_count": 264
        }
      ]
    },
    {
      "cell_type": "code",
      "source": [
        "param_countries = {}\n",
        "for i in range(len(df)):\n",
        "  if not isNaN(param_list[i]):\n",
        "    param_countries[param_list[i]] = df['Country'][i]\n",
        "param_countries"
      ],
      "metadata": {
        "colab": {
          "base_uri": "https://localhost:8080/"
        },
        "id": "UODL7Q_EKTLM",
        "outputId": "e4c54759-712f-485f-8074-4f122634d6fe"
      },
      "execution_count": 265,
      "outputs": [
        {
          "output_type": "execute_result",
          "data": {
            "text/plain": [
              "{'0.530970M': 'India',\n",
              " '0.623706M': 'India',\n",
              " '0.67M': 'Netherlands',\n",
              " '0.906075M': 'India',\n",
              " '0.990298M': 'India',\n",
              " '1.1M': 'China',\n",
              " '11.4M': 'China',\n",
              " '121M': 'USA',\n",
              " '18M': 'USA',\n",
              " '2.1M': 'USA',\n",
              " '20.03M': 'USA',\n",
              " '20M': 'Portugal',\n",
              " '23M': 'China, USA',\n",
              " '24M': 'USA',\n",
              " '25.6M': 'USA',\n",
              " '25M': 'USA',\n",
              " '26.21M': 'South Korea',\n",
              " '26.3M': 'Hong Kong, China',\n",
              " '26M': 'South Korea',\n",
              " '27.22M': 'China, Canada',\n",
              " '3.17M': 'USA',\n",
              " '3.1M': 'China',\n",
              " '3.76M': 'USA',\n",
              " '307M': 'USA',\n",
              " '32.6M': 'Hong Kong, China',\n",
              " '33.5M': 'USA',\n",
              " '36.5M': 'USA',\n",
              " '36.7M': 'Hong Kong, China',\n",
              " '4.3M': 'USA',\n",
              " '4.6M': 'China, USA',\n",
              " '44.1M': 'USA',\n",
              " '5.5M': 'China',\n",
              " '5.7M': 'USA',\n",
              " '54M': 'China',\n",
              " '55.9M': 'Hong Kong, China',\n",
              " '55M': 'USA',\n",
              " '6.2M': 'China, USA',\n",
              " '6.9M': 'China, USA',\n",
              " '632M': 'USA',\n",
              " '64M': 'USA',\n",
              " '65.6M': 'China',\n",
              " '86M': 'USA, France',\n",
              " '87M': 'USA',\n",
              " '90.1M': 'USA'}"
            ]
          },
          "metadata": {},
          "execution_count": 265
        }
      ]
    },
    {
      "cell_type": "code",
      "source": [
        "# GDP Track\n",
        "country_set = []\n",
        "for i in param_countries.values():\n",
        "  i = i.strip()\n",
        "  i = i.split(', ')\n",
        "  for j in i:\n",
        "    if j not in country_set:\n",
        "      country_set.append(j)\n",
        "country_set"
      ],
      "metadata": {
        "colab": {
          "base_uri": "https://localhost:8080/"
        },
        "id": "DIwINcCVN6rS",
        "outputId": "2dd7e402-7008-4684-a893-bcec0f339286"
      },
      "execution_count": 266,
      "outputs": [
        {
          "output_type": "execute_result",
          "data": {
            "text/plain": [
              "['USA',\n",
              " 'China',\n",
              " 'France',\n",
              " 'Hong Kong',\n",
              " 'South Korea',\n",
              " 'Portugal',\n",
              " 'Canada',\n",
              " 'Netherlands',\n",
              " 'India']"
            ]
          },
          "metadata": {},
          "execution_count": 266
        }
      ]
    },
    {
      "cell_type": "code",
      "source": [
        "### GDP Listing\n",
        "gdps = pd.read_csv('/content/drive/MyDrive/Research/BCS2 Lab/Papers With Code Test/gdp.csv')\n",
        "gdps"
      ],
      "metadata": {
        "colab": {
          "base_uri": "https://localhost:8080/",
          "height": 423
        },
        "id": "K5DFkEEORhKG",
        "outputId": "81afc90b-58a8-4e59-c527-01a00aee50f2"
      },
      "execution_count": 267,
      "outputs": [
        {
          "output_type": "execute_result",
          "data": {
            "text/html": [
              "\n",
              "  <div id=\"df-4e11f54f-673c-4fd3-8c8b-566bedda66b6\">\n",
              "    <div class=\"colab-df-container\">\n",
              "      <div>\n",
              "<style scoped>\n",
              "    .dataframe tbody tr th:only-of-type {\n",
              "        vertical-align: middle;\n",
              "    }\n",
              "\n",
              "    .dataframe tbody tr th {\n",
              "        vertical-align: top;\n",
              "    }\n",
              "\n",
              "    .dataframe thead th {\n",
              "        text-align: right;\n",
              "    }\n",
              "</style>\n",
              "<table border=\"1\" class=\"dataframe\">\n",
              "  <thead>\n",
              "    <tr style=\"text-align: right;\">\n",
              "      <th></th>\n",
              "      <th>rank</th>\n",
              "      <th>country</th>\n",
              "      <th>imfGDP</th>\n",
              "      <th>unGDP</th>\n",
              "      <th>gdpPerCapita</th>\n",
              "      <th>pop</th>\n",
              "    </tr>\n",
              "  </thead>\n",
              "  <tbody>\n",
              "    <tr>\n",
              "      <th>0</th>\n",
              "      <td>1</td>\n",
              "      <td>USA</td>\n",
              "      <td>2.219810e+13</td>\n",
              "      <td>1.862450e+13</td>\n",
              "      <td>66678.0263</td>\n",
              "      <td>332915.073</td>\n",
              "    </tr>\n",
              "    <tr>\n",
              "      <th>1</th>\n",
              "      <td>2</td>\n",
              "      <td>China</td>\n",
              "      <td>1.546810e+13</td>\n",
              "      <td>1.121830e+13</td>\n",
              "      <td>10710.3777</td>\n",
              "      <td>1444216.107</td>\n",
              "    </tr>\n",
              "    <tr>\n",
              "      <th>2</th>\n",
              "      <td>3</td>\n",
              "      <td>Japan</td>\n",
              "      <td>5.495420e+12</td>\n",
              "      <td>4.936210e+12</td>\n",
              "      <td>43596.8659</td>\n",
              "      <td>126050.804</td>\n",
              "    </tr>\n",
              "    <tr>\n",
              "      <th>3</th>\n",
              "      <td>4</td>\n",
              "      <td>Germany</td>\n",
              "      <td>4.157120e+12</td>\n",
              "      <td>3.477800e+12</td>\n",
              "      <td>49548.2308</td>\n",
              "      <td>83900.473</td>\n",
              "    </tr>\n",
              "    <tr>\n",
              "      <th>4</th>\n",
              "      <td>5</td>\n",
              "      <td>India</td>\n",
              "      <td>3.257720e+12</td>\n",
              "      <td>2.259640e+12</td>\n",
              "      <td>2337.9495</td>\n",
              "      <td>1393409.038</td>\n",
              "    </tr>\n",
              "    <tr>\n",
              "      <th>...</th>\n",
              "      <td>...</td>\n",
              "      <td>...</td>\n",
              "      <td>...</td>\n",
              "      <td>...</td>\n",
              "      <td>...</td>\n",
              "      <td>...</td>\n",
              "    </tr>\n",
              "    <tr>\n",
              "      <th>206</th>\n",
              "      <td>207</td>\n",
              "      <td>Pakistan</td>\n",
              "      <td>0.000000e+00</td>\n",
              "      <td>2.825060e+11</td>\n",
              "      <td>1254.4675</td>\n",
              "      <td>225199.937</td>\n",
              "    </tr>\n",
              "    <tr>\n",
              "      <th>207</th>\n",
              "      <td>208</td>\n",
              "      <td>Anguilla</td>\n",
              "      <td>0.000000e+00</td>\n",
              "      <td>3.375205e+08</td>\n",
              "      <td>22327.2124</td>\n",
              "      <td>15.117</td>\n",
              "    </tr>\n",
              "    <tr>\n",
              "      <th>208</th>\n",
              "      <td>209</td>\n",
              "      <td>Sudan</td>\n",
              "      <td>0.000000e+00</td>\n",
              "      <td>8.288740e+10</td>\n",
              "      <td>1845.6600</td>\n",
              "      <td>44909.353</td>\n",
              "    </tr>\n",
              "    <tr>\n",
              "      <th>209</th>\n",
              "      <td>210</td>\n",
              "      <td>Syria</td>\n",
              "      <td>0.000000e+00</td>\n",
              "      <td>2.216308e+10</td>\n",
              "      <td>1212.7072</td>\n",
              "      <td>18275.702</td>\n",
              "    </tr>\n",
              "    <tr>\n",
              "      <th>210</th>\n",
              "      <td>211</td>\n",
              "      <td>Turks and Caicos Islands</td>\n",
              "      <td>0.000000e+00</td>\n",
              "      <td>9.175505e+08</td>\n",
              "      <td>23388.4044</td>\n",
              "      <td>39.231</td>\n",
              "    </tr>\n",
              "  </tbody>\n",
              "</table>\n",
              "<p>211 rows × 6 columns</p>\n",
              "</div>\n",
              "      <button class=\"colab-df-convert\" onclick=\"convertToInteractive('df-4e11f54f-673c-4fd3-8c8b-566bedda66b6')\"\n",
              "              title=\"Convert this dataframe to an interactive table.\"\n",
              "              style=\"display:none;\">\n",
              "        \n",
              "  <svg xmlns=\"http://www.w3.org/2000/svg\" height=\"24px\"viewBox=\"0 0 24 24\"\n",
              "       width=\"24px\">\n",
              "    <path d=\"M0 0h24v24H0V0z\" fill=\"none\"/>\n",
              "    <path d=\"M18.56 5.44l.94 2.06.94-2.06 2.06-.94-2.06-.94-.94-2.06-.94 2.06-2.06.94zm-11 1L8.5 8.5l.94-2.06 2.06-.94-2.06-.94L8.5 2.5l-.94 2.06-2.06.94zm10 10l.94 2.06.94-2.06 2.06-.94-2.06-.94-.94-2.06-.94 2.06-2.06.94z\"/><path d=\"M17.41 7.96l-1.37-1.37c-.4-.4-.92-.59-1.43-.59-.52 0-1.04.2-1.43.59L10.3 9.45l-7.72 7.72c-.78.78-.78 2.05 0 2.83L4 21.41c.39.39.9.59 1.41.59.51 0 1.02-.2 1.41-.59l7.78-7.78 2.81-2.81c.8-.78.8-2.07 0-2.86zM5.41 20L4 18.59l7.72-7.72 1.47 1.35L5.41 20z\"/>\n",
              "  </svg>\n",
              "      </button>\n",
              "      \n",
              "  <style>\n",
              "    .colab-df-container {\n",
              "      display:flex;\n",
              "      flex-wrap:wrap;\n",
              "      gap: 12px;\n",
              "    }\n",
              "\n",
              "    .colab-df-convert {\n",
              "      background-color: #E8F0FE;\n",
              "      border: none;\n",
              "      border-radius: 50%;\n",
              "      cursor: pointer;\n",
              "      display: none;\n",
              "      fill: #1967D2;\n",
              "      height: 32px;\n",
              "      padding: 0 0 0 0;\n",
              "      width: 32px;\n",
              "    }\n",
              "\n",
              "    .colab-df-convert:hover {\n",
              "      background-color: #E2EBFA;\n",
              "      box-shadow: 0px 1px 2px rgba(60, 64, 67, 0.3), 0px 1px 3px 1px rgba(60, 64, 67, 0.15);\n",
              "      fill: #174EA6;\n",
              "    }\n",
              "\n",
              "    [theme=dark] .colab-df-convert {\n",
              "      background-color: #3B4455;\n",
              "      fill: #D2E3FC;\n",
              "    }\n",
              "\n",
              "    [theme=dark] .colab-df-convert:hover {\n",
              "      background-color: #434B5C;\n",
              "      box-shadow: 0px 1px 3px 1px rgba(0, 0, 0, 0.15);\n",
              "      filter: drop-shadow(0px 1px 2px rgba(0, 0, 0, 0.3));\n",
              "      fill: #FFFFFF;\n",
              "    }\n",
              "  </style>\n",
              "\n",
              "      <script>\n",
              "        const buttonEl =\n",
              "          document.querySelector('#df-4e11f54f-673c-4fd3-8c8b-566bedda66b6 button.colab-df-convert');\n",
              "        buttonEl.style.display =\n",
              "          google.colab.kernel.accessAllowed ? 'block' : 'none';\n",
              "\n",
              "        async function convertToInteractive(key) {\n",
              "          const element = document.querySelector('#df-4e11f54f-673c-4fd3-8c8b-566bedda66b6');\n",
              "          const dataTable =\n",
              "            await google.colab.kernel.invokeFunction('convertToInteractive',\n",
              "                                                     [key], {});\n",
              "          if (!dataTable) return;\n",
              "\n",
              "          const docLinkHtml = 'Like what you see? Visit the ' +\n",
              "            '<a target=\"_blank\" href=https://colab.research.google.com/notebooks/data_table.ipynb>data table notebook</a>'\n",
              "            + ' to learn more about interactive tables.';\n",
              "          element.innerHTML = '';\n",
              "          dataTable['output_type'] = 'display_data';\n",
              "          await google.colab.output.renderOutput(dataTable, element);\n",
              "          const docLink = document.createElement('div');\n",
              "          docLink.innerHTML = docLinkHtml;\n",
              "          element.appendChild(docLink);\n",
              "        }\n",
              "      </script>\n",
              "    </div>\n",
              "  </div>\n",
              "  "
            ],
            "text/plain": [
              "     rank                   country  ...  gdpPerCapita          pop\n",
              "0       1                       USA  ...    66678.0263   332915.073\n",
              "1       2                     China  ...    10710.3777  1444216.107\n",
              "2       3                     Japan  ...    43596.8659   126050.804\n",
              "3       4                   Germany  ...    49548.2308    83900.473\n",
              "4       5                     India  ...     2337.9495  1393409.038\n",
              "..    ...                       ...  ...           ...          ...\n",
              "206   207                  Pakistan  ...     1254.4675   225199.937\n",
              "207   208                  Anguilla  ...    22327.2124       15.117\n",
              "208   209                     Sudan  ...     1845.6600    44909.353\n",
              "209   210                     Syria  ...     1212.7072    18275.702\n",
              "210   211  Turks and Caicos Islands  ...    23388.4044       39.231\n",
              "\n",
              "[211 rows x 6 columns]"
            ]
          },
          "metadata": {},
          "execution_count": 267
        }
      ]
    },
    {
      "cell_type": "code",
      "source": [
        "key_list = list(param_countries.keys())\n",
        "value_list = list(param_countries.values())\n",
        "\n",
        "all_gdp = []\n",
        "all_gdp_capita = []\n",
        "all_param = []\n",
        "\n",
        "for i in range(len(gdps)):\n",
        "  if gdps['country'][i] in country_set:\n",
        "          for j in value_list:\n",
        "            k = j.strip()\n",
        "            countr = k.split(', ')\n",
        "            if gdps['country'][i] in countr:\n",
        "              all_param.append(key_list[value_list.index(j)])\n",
        "              all_gdp.append(gdps['imfGDP'][i])\n",
        "              all_gdp_capita.append(gdps['gdpPerCapita'][i])\n",
        "print(max(all_gdp), all_gdp)\n",
        "print(max(all_gdp_capita), all_gdp_capita)\n",
        "print(max(list(float(i.strip('M')) for i in all_param)), all_param)"
      ],
      "metadata": {
        "colab": {
          "base_uri": "https://localhost:8080/"
        },
        "id": "rAZVdFlTU_lx",
        "outputId": "f8253a18-0419-4ebd-a4d4-10c627ef8b75"
      },
      "execution_count": 268,
      "outputs": [
        {
          "output_type": "stream",
          "name": "stdout",
          "text": [
            "22198100000000.0 [22198100000000.0, 22198100000000.0, 22198100000000.0, 22198100000000.0, 22198100000000.0, 22198100000000.0, 22198100000000.0, 22198100000000.0, 22198100000000.0, 22198100000000.0, 22198100000000.0, 22198100000000.0, 22198100000000.0, 22198100000000.0, 22198100000000.0, 22198100000000.0, 22198100000000.0, 22198100000000.0, 22198100000000.0, 22198100000000.0, 22198100000000.0, 22198100000000.0, 22198100000000.0, 22198100000000.0, 22198100000000.0, 15468100000000.0, 15468100000000.0, 15468100000000.0, 15468100000000.0, 15468100000000.0, 15468100000000.0, 15468100000000.0, 15468100000000.0, 15468100000000.0, 15468100000000.0, 15468100000000.0, 15468100000000.0, 15468100000000.0, 15468100000000.0, 15468100000000.0, 3257720000000.0, 3257720000000.0, 3257720000000.0, 3257720000000.0, 2876050000000.0, 1832490000000.0, 1744360000000.0, 1744360000000.0, 954931000000.0, 402034000000.0, 402034000000.0, 402034000000.0, 402034000000.0, 249912000000.0]\n",
            "66678.0263 [66678.0263, 66678.0263, 66678.0263, 66678.0263, 66678.0263, 66678.0263, 66678.0263, 66678.0263, 66678.0263, 66678.0263, 66678.0263, 66678.0263, 66678.0263, 66678.0263, 66678.0263, 66678.0263, 66678.0263, 66678.0263, 66678.0263, 66678.0263, 66678.0263, 66678.0263, 66678.0263, 66678.0263, 66678.0263, 10710.3777, 10710.3777, 10710.3777, 10710.3777, 10710.3777, 10710.3777, 10710.3777, 10710.3777, 10710.3777, 10710.3777, 10710.3777, 10710.3777, 10710.3777, 10710.3777, 10710.3777, 2337.9495, 2337.9495, 2337.9495, 2337.9495, 43958.7034, 48137.4033, 33999.6818, 33999.6818, 55606.2129, 53229.7251, 53229.7251, 53229.7251, 53229.7251, 24578.4661]\n",
            "632.0 ['632M', '23M', '86M', '632M', '632M', '632M', '632M', '632M', '632M', '23M', '632M', '23M', '632M', '632M', '632M', '632M', '23M', '632M', '632M', '632M', '632M', '632M', '632M', '632M', '632M', '23M', '65.6M', '65.6M', '32.6M', '23M', '32.6M', '32.6M', '32.6M', '23M', '27.22M', '23M', '65.6M', '65.6M', '65.6M', '65.6M', '0.906075M', '0.906075M', '0.906075M', '0.906075M', '86M', '27.22M', '26M', '26M', '0.67M', '32.6M', '32.6M', '32.6M', '32.6M', '20M']\n"
          ]
        }
      ]
    },
    {
      "cell_type": "code",
      "source": [
        "sns.set()\n",
        "\n",
        "y_val = []\n",
        "for i in all_param:\n",
        "  i = float(i.strip('M'))\n",
        "  y_val.append(i)\n",
        "# print(y_val)\n",
        "\n",
        "x1_val = []\n",
        "for i in all_gdp:\n",
        "  i = float(i)/1000000000000\n",
        "  x1_val.append(i)\n",
        "# print(x_val)\n",
        "\n",
        "x2_val = []\n",
        "for i in all_gdp_capita:\n",
        "  i = float(i)/1000000\n",
        "  x2_val.append(i)\n",
        "\n",
        "\n",
        "# fig = plt.figure()\n",
        "# ax = fig.add_axes([0,0,1,1])\n",
        "# plt.scatter(x_val, y_val, marker='.')\n",
        "# ax.xaxis.set_ticks(np.arange(0, 25, 2))\n",
        "\n",
        "\n",
        "fig, axes = plt.subplots(1, 2, figsize = (15,8))\n",
        "\n",
        "data = pd.DataFrame({ \n",
        "    'y_val': y_val,\n",
        "    'x1_val': x1_val\n",
        "})\n",
        "\n",
        "ax1 = sns.regplot(x='x1_val', y='y_val', data=data, order = 3, ax=axes[0])\n",
        "\n",
        "data2 = pd.DataFrame({ \n",
        "    'y_val': y_val,\n",
        "    'x2_val': x2_val\n",
        "})\n",
        "ax2 = sns.regplot(x='x2_val', y='y_val', data=data2, order = 3, ax = axes[1])\n",
        "\n",
        "\n",
        "ax1.set(xticks=(np.arange(0, 25, 2)))\n",
        "ax2.set(xticks=(np.arange(0, 0.07, 0.01)))\n",
        "\n",
        "\n",
        "fig.suptitle('Image Classification(CIFAR-10 Dataset)')\n",
        "\n",
        "ax1.set_title('Parameters vs Country GDP')\n",
        "ax2.set_title('Parameters vs Country GDP Per Capita')\n",
        "\n",
        "ax1.set_xlabel('GDP in Trillions USD')\n",
        "ax1.set_ylabel('Number of Parameters in Million')\n",
        "\n",
        "ax2.set_xlabel('GDP Per Capita in Miillions USD')\n",
        "ax2.set_ylabel('Number of Parameters in Million')\n",
        "\n",
        "# ax1.tick_params(axis='x', labelrotation=45)\n",
        "# ax2.tick_params(axis='x', labelrotation=45)\n",
        "# plt.show()"
      ],
      "metadata": {
        "colab": {
          "base_uri": "https://localhost:8080/",
          "height": 578
        },
        "id": "p5srhwsca8a0",
        "outputId": "a780493f-40e3-4119-c5fe-2e5bf5bd4a0a"
      },
      "execution_count": 271,
      "outputs": [
        {
          "output_type": "execute_result",
          "data": {
            "text/plain": [
              "Text(0, 0.5, 'Number of Parameters in Million')"
            ]
          },
          "metadata": {},
          "execution_count": 271
        },
        {
          "output_type": "display_data",
          "data": {
            "image/png": "[encoded data removed]",
            "text/plain": [
              "<Figure size 1080x576 with 2 Axes>"
            ]
          },
          "metadata": {}
        }
      ]
    },
    {
      "cell_type": "code",
      "source": [
        ""
      ],
      "metadata": {
        "id": "VkGstjCJJEFv"
      },
      "execution_count": null,
      "outputs": []
    }
  ]
}