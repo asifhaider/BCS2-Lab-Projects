{
  "nbformat": 4,
  "nbformat_minor": 0,
  "metadata": {
    "colab": {
      "name": "ImageNet Analysis & Visualization",
      "provenance": [],
      "collapsed_sections": [
        "5GF82PmNKl-5",
        "xsFPNevnKe6O",
        "5Wh63uemKrzg"
      ]
    },
    "kernelspec": {
      "name": "python3",
      "display_name": "Python 3"
    },
    "language_info": {
      "name": "python"
    }
  },
  "cells": [
    {
      "cell_type": "markdown",
      "metadata": {
        "id": "5GF82PmNKl-5"
      },
      "source": [
        "# Data Load"
      ]
    },
    {
      "cell_type": "code",
      "metadata": {
        "id": "kmj-0GSXHp9H"
      },
      "source": [
        "import numpy as np\n",
        "import pandas as pd\n",
        "import matplotlib.pyplot as plt"
      ],
      "execution_count": null,
      "outputs": []
    },
    {
      "cell_type": "code",
      "metadata": {
        "colab": {
          "base_uri": "https://localhost:8080/"
        },
        "id": "CNNq2tXZIYV7",
        "outputId": "a4c1b01b-4a42-4625-ea10-355947d363ff"
      },
      "source": [
        "df = pd.read_csv('/content/drive/MyDrive/Research/BCS2 Lab/Papers With Code Test/ImageNet Dataset.csv', encoding='latin-1')\n",
        "df"
      ],
      "execution_count": null,
      "outputs": [
        {
          "output_type": "execute_result",
          "data": {
            "text/html": [
              "<div>\n",
              "<style scoped>\n",
              "    .dataframe tbody tr th:only-of-type {\n",
              "        vertical-align: middle;\n",
              "    }\n",
              "\n",
              "    .dataframe tbody tr th {\n",
              "        vertical-align: top;\n",
              "    }\n",
              "\n",
              "    .dataframe thead th {\n",
              "        text-align: right;\n",
              "    }\n",
              "</style>\n",
              "<table border=\"1\" class=\"dataframe\">\n",
              "  <thead>\n",
              "    <tr style=\"text-align: right;\">\n",
              "      <th></th>\n",
              "      <th>Ranking</th>\n",
              "      <th>Model</th>\n",
              "      <th>Paper Title</th>\n",
              "      <th>Accuracy</th>\n",
              "      <th>Parameters</th>\n",
              "      <th>Parameters (missing)</th>\n",
              "      <th>Paper Link</th>\n",
              "      <th>Year</th>\n",
              "      <th>Tags</th>\n",
              "      <th>Industry Affiliation</th>\n",
              "      <th>Academia Affiliation</th>\n",
              "      <th>Country</th>\n",
              "    </tr>\n",
              "  </thead>\n",
              "  <tbody>\n",
              "    <tr>\n",
              "      <th>0</th>\n",
              "      <td>1</td>\n",
              "      <td>CoAtNet-7</td>\n",
              "      <td>CoAtNet: Marrying Convolution and Attention fo...</td>\n",
              "      <td>90.88%</td>\n",
              "      <td>2440M</td>\n",
              "      <td>NaN</td>\n",
              "      <td>https://paperswithcode.com/paper/coatnet-marry...</td>\n",
              "      <td>2021</td>\n",
              "      <td>Conv+Transformer</td>\n",
              "      <td>Google Brain</td>\n",
              "      <td>NaN</td>\n",
              "      <td>NaN</td>\n",
              "    </tr>\n",
              "    <tr>\n",
              "      <th>1</th>\n",
              "      <td>2</td>\n",
              "      <td>ViT-G/14</td>\n",
              "      <td>Scaling Vision Transformers</td>\n",
              "      <td>90.45%</td>\n",
              "      <td>1843M</td>\n",
              "      <td>NaN</td>\n",
              "      <td>https://paperswithcode.com/paper/scaling-visio...</td>\n",
              "      <td>2021</td>\n",
              "      <td>Transformer</td>\n",
              "      <td>Google Brain</td>\n",
              "      <td>NaN</td>\n",
              "      <td>Switzerland</td>\n",
              "    </tr>\n",
              "    <tr>\n",
              "      <th>2</th>\n",
              "      <td>3</td>\n",
              "      <td>CoAtNet-6</td>\n",
              "      <td>CoAtNet: Marrying Convolution and Attention fo...</td>\n",
              "      <td>90.45%</td>\n",
              "      <td>1470M</td>\n",
              "      <td>NaN</td>\n",
              "      <td>https://paperswithcode.com/paper/coatnet-marry...</td>\n",
              "      <td>2021</td>\n",
              "      <td>Conv+Transformer</td>\n",
              "      <td>Google Brain</td>\n",
              "      <td>NaN</td>\n",
              "      <td>NaN</td>\n",
              "    </tr>\n",
              "    <tr>\n",
              "      <th>3</th>\n",
              "      <td>4</td>\n",
              "      <td>ViT-MoE-15B</td>\n",
              "      <td>Scaling Vision with Sparse Mixture of Experts</td>\n",
              "      <td>90.35%</td>\n",
              "      <td>14700M</td>\n",
              "      <td>NaN</td>\n",
              "      <td>https://paperswithcode.com/paper/scaling-visio...</td>\n",
              "      <td>2021</td>\n",
              "      <td>Transformer</td>\n",
              "      <td>Google Brain</td>\n",
              "      <td>NaN</td>\n",
              "      <td>NaN</td>\n",
              "    </tr>\n",
              "    <tr>\n",
              "      <th>4</th>\n",
              "      <td>5</td>\n",
              "      <td>Meta Pseudo Labels</td>\n",
              "      <td>Meta Pseudo Labels</td>\n",
              "      <td>90.20%</td>\n",
              "      <td>98.8</td>\n",
              "      <td>480M</td>\n",
              "      <td>https://paperswithcode.com/paper/meta-pseudo-l...</td>\n",
              "      <td>2021</td>\n",
              "      <td>EfficientNet</td>\n",
              "      <td>Google Brain</td>\n",
              "      <td>NaN</td>\n",
              "      <td>NaN</td>\n",
              "    </tr>\n",
              "    <tr>\n",
              "      <th>...</th>\n",
              "      <td>...</td>\n",
              "      <td>...</td>\n",
              "      <td>...</td>\n",
              "      <td>...</td>\n",
              "      <td>...</td>\n",
              "      <td>...</td>\n",
              "      <td>...</td>\n",
              "      <td>...</td>\n",
              "      <td>...</td>\n",
              "      <td>...</td>\n",
              "      <td>...</td>\n",
              "      <td>...</td>\n",
              "    </tr>\n",
              "    <tr>\n",
              "      <th>475</th>\n",
              "      <td>476</td>\n",
              "      <td>ZFNet</td>\n",
              "      <td>Visualizing and Understanding Convolutional Ne...</td>\n",
              "      <td>62.50%</td>\n",
              "      <td>84.00%</td>\n",
              "      <td>NaN</td>\n",
              "      <td>https://paperswithcode.com/paper/visualizing-a...</td>\n",
              "      <td>2013</td>\n",
              "      <td>NaN</td>\n",
              "      <td>NaN</td>\n",
              "      <td>Beihang University,</td>\n",
              "      <td>NaN</td>\n",
              "    </tr>\n",
              "    <tr>\n",
              "      <th>476</th>\n",
              "      <td>477</td>\n",
              "      <td>BBG</td>\n",
              "      <td>Balanced Binary Neural Networks with Gated Res...</td>\n",
              "      <td>59.40%</td>\n",
              "      <td>81.30%</td>\n",
              "      <td>NaN</td>\n",
              "      <td>https://paperswithcode.com/paper/balanced-bina...</td>\n",
              "      <td>2019</td>\n",
              "      <td>ResNet</td>\n",
              "      <td>NaN</td>\n",
              "      <td>Beihang University,</td>\n",
              "      <td>NaN</td>\n",
              "    </tr>\n",
              "    <tr>\n",
              "      <th>477</th>\n",
              "      <td>478</td>\n",
              "      <td>SIFT + FVs</td>\n",
              "      <td>NaN</td>\n",
              "      <td>50.90%</td>\n",
              "      <td>73.80%</td>\n",
              "      <td>NaN</td>\n",
              "      <td>NaN</td>\n",
              "      <td>2011</td>\n",
              "      <td>NaN</td>\n",
              "      <td>Google Brain</td>\n",
              "      <td>NaN</td>\n",
              "      <td>NaN</td>\n",
              "    </tr>\n",
              "    <tr>\n",
              "      <th>478</th>\n",
              "      <td>479</td>\n",
              "      <td>ViT-H/14</td>\n",
              "      <td>An Image is Worth 16x16 Words: Transformers fo...</td>\n",
              "      <td>88.55±0.04%</td>\n",
              "      <td>632M</td>\n",
              "      <td>NaN</td>\n",
              "      <td>https://paperswithcode.com/paper/an-image-is-w...</td>\n",
              "      <td>2020</td>\n",
              "      <td>Transformer</td>\n",
              "      <td>Google</td>\n",
              "      <td>NaN</td>\n",
              "      <td>NaN</td>\n",
              "    </tr>\n",
              "    <tr>\n",
              "      <th>479</th>\n",
              "      <td>480</td>\n",
              "      <td>Modified Aligned Xception</td>\n",
              "      <td>Encoder-Decoder with Atrous Separable Convolut...</td>\n",
              "      <td>94.83</td>\n",
              "      <td>NaN</td>\n",
              "      <td>NaN</td>\n",
              "      <td>https://paperswithcode.com/paper/encoder-decod...</td>\n",
              "      <td>2018</td>\n",
              "      <td>NaN</td>\n",
              "      <td>NaN</td>\n",
              "      <td>University of New South Wales, Australian Nati...</td>\n",
              "      <td>NaN</td>\n",
              "    </tr>\n",
              "  </tbody>\n",
              "</table>\n",
              "<p>480 rows × 12 columns</p>\n",
              "</div>"
            ],
            "text/plain": [
              "     Ranking  ...       Country\n",
              "0          1  ...           NaN\n",
              "1          2  ...  Switzerland \n",
              "2          3  ...           NaN\n",
              "3          4  ...           NaN\n",
              "4          5  ...           NaN\n",
              "..       ...  ...           ...\n",
              "475      476  ...           NaN\n",
              "476      477  ...           NaN\n",
              "477      478  ...           NaN\n",
              "478      479  ...           NaN\n",
              "479      480  ...           NaN\n",
              "\n",
              "[480 rows x 12 columns]"
            ]
          },
          "metadata": {},
          "execution_count": 153
        }
      ]
    },
    {
      "cell_type": "code",
      "metadata": {
        "colab": {
          "base_uri": "https://localhost:8080/"
        },
        "id": "tbCFvF2pD6sM",
        "outputId": "e61adb6f-9fd4-425e-ca0e-56b94456d9c4"
      },
      "source": [
        "countries = df['Country']\n",
        "countries"
      ],
      "execution_count": null,
      "outputs": [
        {
          "output_type": "execute_result",
          "data": {
            "text/plain": [
              "0               NaN\n",
              "1      Switzerland \n",
              "2               NaN\n",
              "3               NaN\n",
              "4               NaN\n",
              "           ...     \n",
              "475             NaN\n",
              "476             NaN\n",
              "477             NaN\n",
              "478             NaN\n",
              "479             NaN\n",
              "Name: Country, Length: 480, dtype: object"
            ]
          },
          "metadata": {},
          "execution_count": 154
        }
      ]
    },
    {
      "cell_type": "markdown",
      "metadata": {
        "id": "xsFPNevnKe6O"
      },
      "source": [
        "# Industry Analysis"
      ]
    },
    {
      "cell_type": "code",
      "metadata": {
        "colab": {
          "base_uri": "https://localhost:8080/"
        },
        "id": "6DfgONGBIeMs",
        "outputId": "6f256921-b07b-4339-8e28-7d6023a75092"
      },
      "source": [
        "industry = df['Industry Affiliation']\n",
        "industry"
      ],
      "execution_count": null,
      "outputs": [
        {
          "output_type": "execute_result",
          "data": {
            "text/plain": [
              "0      Google Brain\n",
              "1      Google Brain\n",
              "2      Google Brain\n",
              "3      Google Brain\n",
              "4      Google Brain\n",
              "           ...     \n",
              "475             NaN\n",
              "476             NaN\n",
              "477    Google Brain\n",
              "478          Google\n",
              "479             NaN\n",
              "Name: Industry Affiliation, Length: 480, dtype: object"
            ]
          },
          "metadata": {},
          "execution_count": 155
        }
      ]
    },
    {
      "cell_type": "code",
      "metadata": {
        "colab": {
          "base_uri": "https://localhost:8080/"
        },
        "id": "sGw0MvbZKh5c",
        "outputId": "5a4be842-bbc7-453e-a12f-4c461e96aefa"
      },
      "source": [
        "def isNaN (num):\n",
        "  return num!=num\n",
        "\n",
        "unique_industry = {}\n",
        "for i in industry:\n",
        "  if not isNaN(i):\n",
        "    j = i.split(', ')\n",
        "    for k in j:\n",
        "      k = k.strip()\n",
        "      if k not in unique_industry:\n",
        "        count = 1\n",
        "        unique_industry[k] = count\n",
        "      else:\n",
        "        count = unique_industry[k]\n",
        "        count = count + 1\n",
        "        unique_industry[k] = count \n",
        "print(len(unique_industry))\n",
        "# industry_count = sorted(unique_industry.items(), key = lambda kv: kv[1], reverse = True)\n",
        "unique_industry"
      ],
      "execution_count": null,
      "outputs": [
        {
          "output_type": "stream",
          "name": "stdout",
          "text": [
            "44\n"
          ]
        },
        {
          "output_type": "execute_result",
          "data": {
            "text/plain": [
              "{'AI2': 2,\n",
              " 'Alibaba': 5,\n",
              " 'Amazon': 4,\n",
              " 'Apple': 1,\n",
              " 'Baidu Inc.': 6,\n",
              " 'BlueShift': 1,\n",
              " 'ByteDance': 13,\n",
              " 'DFKI': 2,\n",
              " 'DeepMind': 11,\n",
              " 'Facebook': 11,\n",
              " 'Facebook AI Research': 90,\n",
              " 'Google': 37,\n",
              " 'Google AI': 1,\n",
              " 'Google Brain': 72,\n",
              " 'Horizon Robotics': 1,\n",
              " 'Huawei Inc.': 16,\n",
              " 'IBM': 4,\n",
              " 'IIAI': 6,\n",
              " 'IMEC': 1,\n",
              " 'Intel Corp.': 1,\n",
              " 'JD Explore': 6,\n",
              " 'Kakao Brain': 2,\n",
              " 'LG CNS': 1,\n",
              " 'Line Plus Corp.': 1,\n",
              " 'Lunit Inc.': 1,\n",
              " 'Megvii': 5,\n",
              " 'Meituan Inc.': 1,\n",
              " 'Microsoft': 23,\n",
              " 'Microsoft Asia': 20,\n",
              " 'Microsoft Cloud AI': 9,\n",
              " 'Momenta': 2,\n",
              " 'Naver Corp.': 7,\n",
              " 'PicsArt Inc.': 6,\n",
              " 'Qihoo 360': 11,\n",
              " 'Samsung': 2,\n",
              " 'Sea AI Lab': 6,\n",
              " 'SenseTime': 24,\n",
              " 'SmartMore': 3,\n",
              " 'Snap': 4,\n",
              " 'Uber': 1,\n",
              " 'Valeo': 6,\n",
              " 'XNOR AI': 1,\n",
              " 'Xiaomi': 4,\n",
              " 'YITU Technology': 7}"
            ]
          },
          "metadata": {},
          "execution_count": 156
        }
      ]
    },
    {
      "cell_type": "code",
      "metadata": {
        "id": "ijb8aeOmRDGY",
        "colab": {
          "base_uri": "https://localhost:8080/"
        },
        "outputId": "6691cd0b-b3bd-4614-d3e9-52c5d2591b6f"
      },
      "source": [
        "industry_country = {}\n",
        "for i in unique_industry:\n",
        "  if i == 'Alibaba' or i == 'Baidu Inc.' or i == 'ByteDance' or i == 'Horizon Robotics' or i == 'Huawei Inc.' or i == 'JD Explore' or i == 'Megvii' or i == 'Meituan Inc.' or i == 'Microsoft Asia' or i == 'Momenta' or i == 'Qihoo 360' or i == 'Xiaomi' or i == 'YITU Technology':\n",
        "    industry_country[i] = 'China'\n",
        "  elif i == 'LG CNS' or i == 'Line Plus Corp.' or i == 'Kakao Brain' or i == 'Lunit Inc.' or i == 'Samsung' or i == 'Naver Corp.':\n",
        "    industry_country[i] = 'South Korea'\n",
        "  elif i == 'SenseTime' or i == 'SmartMore':\n",
        "    industry_country[i] = 'Hong Kong'\n",
        "  else:\n",
        "    industry_country[i] = 'USA'\n",
        "industry_country['DFKI'] = 'Germany'\n",
        "industry_country['DeepMind'] = 'UK'\n",
        "industry_country['IIAI'] = 'UAE'\n",
        "industry_country['Sea AI Lab'] = 'Singapore'\n",
        "industry_country['Valeo'] = 'France'\n",
        "(industry_country)"
      ],
      "execution_count": null,
      "outputs": [
        {
          "output_type": "execute_result",
          "data": {
            "text/plain": [
              "{'AI2': 'USA',\n",
              " 'Alibaba': 'China',\n",
              " 'Amazon': 'USA',\n",
              " 'Apple': 'USA',\n",
              " 'Baidu Inc.': 'China',\n",
              " 'BlueShift': 'USA',\n",
              " 'ByteDance': 'China',\n",
              " 'DFKI': 'Germany',\n",
              " 'DeepMind': 'UK',\n",
              " 'Facebook': 'USA',\n",
              " 'Facebook AI Research': 'USA',\n",
              " 'Google': 'USA',\n",
              " 'Google AI': 'USA',\n",
              " 'Google Brain': 'USA',\n",
              " 'Horizon Robotics': 'China',\n",
              " 'Huawei Inc.': 'China',\n",
              " 'IBM': 'USA',\n",
              " 'IIAI': 'UAE',\n",
              " 'IMEC': 'USA',\n",
              " 'Intel Corp.': 'USA',\n",
              " 'JD Explore': 'China',\n",
              " 'Kakao Brain': 'South Korea',\n",
              " 'LG CNS': 'South Korea',\n",
              " 'Line Plus Corp.': 'South Korea',\n",
              " 'Lunit Inc.': 'South Korea',\n",
              " 'Megvii': 'China',\n",
              " 'Meituan Inc.': 'China',\n",
              " 'Microsoft': 'USA',\n",
              " 'Microsoft Asia': 'China',\n",
              " 'Microsoft Cloud AI': 'USA',\n",
              " 'Momenta': 'China',\n",
              " 'Naver Corp.': 'South Korea',\n",
              " 'PicsArt Inc.': 'USA',\n",
              " 'Qihoo 360': 'China',\n",
              " 'Samsung': 'South Korea',\n",
              " 'Sea AI Lab': 'Singapore',\n",
              " 'SenseTime': 'Hong Kong',\n",
              " 'SmartMore': 'Hong Kong',\n",
              " 'Snap': 'USA',\n",
              " 'Uber': 'USA',\n",
              " 'Valeo': 'France',\n",
              " 'XNOR AI': 'USA',\n",
              " 'Xiaomi': 'China',\n",
              " 'YITU Technology': 'China'}"
            ]
          },
          "metadata": {},
          "execution_count": 157
        }
      ]
    },
    {
      "cell_type": "code",
      "metadata": {
        "colab": {
          "base_uri": "https://localhost:8080/"
        },
        "id": "Q_Y_pyV0R1_b",
        "outputId": "18a278f2-f386-44fe-99db-0c3d3dc01d74"
      },
      "source": [
        "country_count = {}\n",
        "for i in industry_count:\n",
        "  j = i[0]\n",
        "  for k in industry_country.keys():\n",
        "    if j == k:\n",
        "      country = industry_country[k]\n",
        "      if country not in country_count:\n",
        "        country_count[country] = i[1]\n",
        "      else:\n",
        "        count = country_count[country]\n",
        "        count = count + i[1]\n",
        "        country_count[country] = count\n",
        "# country_count = sorted(country_count.items(), key = lambda kv: kv[1], reverse = True)\n",
        "country_count\n"
      ],
      "execution_count": null,
      "outputs": [
        {
          "output_type": "execute_result",
          "data": {
            "text/plain": [
              "{'China': 97,\n",
              " 'France': 6,\n",
              " 'Germany': 2,\n",
              " 'Hong Kong': 27,\n",
              " 'Singapore': 6,\n",
              " 'South Korea': 14,\n",
              " 'UAE': 6,\n",
              " 'UK': 11,\n",
              " 'USA': 269}"
            ]
          },
          "metadata": {},
          "execution_count": 158
        }
      ]
    },
    {
      "cell_type": "markdown",
      "metadata": {
        "id": "5Wh63uemKrzg"
      },
      "source": [
        "# Academia Analysis"
      ]
    },
    {
      "cell_type": "code",
      "metadata": {
        "colab": {
          "base_uri": "https://localhost:8080/"
        },
        "id": "YhepPkjyK2tq",
        "outputId": "1bee4082-ef2b-401c-8a79-f827bb407005"
      },
      "source": [
        "academia = df['Academia Affiliation']\n",
        "academia"
      ],
      "execution_count": null,
      "outputs": [
        {
          "output_type": "execute_result",
          "data": {
            "text/plain": [
              "0                                                    NaN\n",
              "1                                                    NaN\n",
              "2                                                    NaN\n",
              "3                                                    NaN\n",
              "4                                                    NaN\n",
              "                             ...                        \n",
              "475                                 Beihang University, \n",
              "476                                 Beihang University, \n",
              "477                                                  NaN\n",
              "478                                                  NaN\n",
              "479    University of New South Wales, Australian Nati...\n",
              "Name: Academia Affiliation, Length: 480, dtype: object"
            ]
          },
          "metadata": {},
          "execution_count": 159
        }
      ]
    },
    {
      "cell_type": "code",
      "metadata": {
        "colab": {
          "base_uri": "https://localhost:8080/"
        },
        "id": "QpZcb6ybQ3Cs",
        "outputId": "ed4ab2ce-a889-4f1e-d7db-e1f38338ec43"
      },
      "source": [
        "unique_academia = {}\n",
        "for i in academia:\n",
        "  if not isNaN(i):\n",
        "    j = i.split(', ')\n",
        "    for k in j:\n",
        "      k = k.strip()\n",
        "      if k is not '':\n",
        "        if k not in unique_academia:\n",
        "          count = 1\n",
        "          unique_academia[k] = count\n",
        "        else:\n",
        "          count = unique_academia[k]\n",
        "          count = count + 1\n",
        "          unique_academia[k] = count \n",
        "print(len(unique_academia))\n",
        "# academia_count = sorted(unique_academia.items(), key = lambda kv: kv[1], reverse = True)\n",
        "# academia_count\n",
        "unique_academia"
      ],
      "execution_count": null,
      "outputs": [
        {
          "output_type": "stream",
          "name": "stdout",
          "text": [
            "102\n"
          ]
        },
        {
          "output_type": "execute_result",
          "data": {
            "text/plain": [
              "{'Aberystwyth University': 3,\n",
              " 'Australian National University': 1,\n",
              " 'Beihang University': 5,\n",
              " 'Beijing Academy of Intelligence': 3,\n",
              " 'Beijing Institute of Technology': 11,\n",
              " 'Beijing National Research Center for Information Science and Technology': 3,\n",
              " 'Boston University': 1,\n",
              " 'CUHK': 1,\n",
              " 'Carnegie Mellon University': 18,\n",
              " 'Cornell University': 7,\n",
              " 'Dalian University of Technology': 4,\n",
              " 'Damo Academy': 1,\n",
              " 'Dublin City University': 1,\n",
              " 'EPFL': 1,\n",
              " 'ETH Zurich': 5,\n",
              " 'Ecole Normale': 6,\n",
              " 'EcoledesPonts Paris Tech': 1,\n",
              " 'French Institute for Research in Computer Science and Automation': 9,\n",
              " 'Gwangju Institute of Science and Technology': 1,\n",
              " 'HKUST': 5,\n",
              " 'Harbin Institute of Technology': 5,\n",
              " 'Harvard University': 1,\n",
              " 'Higher School of Economics': 2,\n",
              " 'Huazhong University of Science and Technology': 4,\n",
              " 'Imperial College London': 1,\n",
              " 'International Digital Economy Academy': 5,\n",
              " 'Johns Hopkins University': 7,\n",
              " 'KIIT': 1,\n",
              " 'KU Leuven': 7,\n",
              " 'Lomonosov Moscow State University': 2,\n",
              " 'MIT': 6,\n",
              " 'McGill University': 9,\n",
              " 'Michigan State University': 5,\n",
              " 'Monash University': 3,\n",
              " 'NC State University': 1,\n",
              " 'Nanjing University': 10,\n",
              " 'Nanjing University of Aeronautics and Astronautics': 1,\n",
              " 'Nanjing University of Science and Technology': 7,\n",
              " 'Nankai University': 3,\n",
              " 'Nanyang Technological University': 4,\n",
              " 'National Chiao Tung University': 1,\n",
              " 'National University of Defense Technology': 11,\n",
              " 'National University of Singapore': 32,\n",
              " 'New York University': 4,\n",
              " 'Peking University': 6,\n",
              " 'Princeton University': 1,\n",
              " 'RMIT University': 1,\n",
              " 'Rice University': 1,\n",
              " 'Rutgers University': 3,\n",
              " 'Seoul National University': 1,\n",
              " 'Seoul National University of Science and Technology': 1,\n",
              " 'Shanghai AI Lab': 1,\n",
              " 'Shanghai Jiao Tong University': 4,\n",
              " 'Shenzhen Institute of Artificial Intelligence and Robotics for Society': 2,\n",
              " 'Sogang University': 4,\n",
              " 'Sorbonne University': 31,\n",
              " 'Southern University of Science and Technology': 1,\n",
              " 'Stanford University': 1,\n",
              " 'Stony Brook University': 5,\n",
              " 'SunYat-sen University': 7,\n",
              " 'Swinburne University of Technology': 3,\n",
              " 'The Chinese University of Hong Kong': 5,\n",
              " 'The University of Adelaide': 1,\n",
              " 'The University of Hong Kong': 6,\n",
              " 'Tianjin University': 4,\n",
              " 'Tongji University': 2,\n",
              " 'Trinity College': 1,\n",
              " 'Tshinghua University': 21,\n",
              " 'UC Berkeley': 17,\n",
              " 'UC Davis': 3,\n",
              " 'UC Irvine': 7,\n",
              " 'UC Merced': 2,\n",
              " 'UC San Diego': 1,\n",
              " 'UCLA': 5,\n",
              " 'UIUC': 5,\n",
              " 'Universitat Grenoble Alpes': 2,\n",
              " 'University College London': 1,\n",
              " 'University of Arizona': 1,\n",
              " 'University of Athens': 1,\n",
              " 'University of California SantaCruz': 1,\n",
              " 'University of Chicago': 2,\n",
              " 'University of Chinese Academy of Sciences': 3,\n",
              " 'University of Copenhagen': 1,\n",
              " 'University of Macau': 1,\n",
              " 'University of Maryland CollegePark': 1,\n",
              " 'University of Munster': 1,\n",
              " 'University of New South Wales': 1,\n",
              " 'University of Oregon': 5,\n",
              " 'University of Oxford': 10,\n",
              " 'University of Science and Technology China': 6,\n",
              " 'University of Science and Technology of Hefei': 5,\n",
              " 'University of Sydney': 10,\n",
              " 'University of Texas at Austin': 3,\n",
              " 'University of Toronto': 1,\n",
              " 'University of Washington': 6,\n",
              " 'Université Paris-Est': 1,\n",
              " 'Vrije Universiteit Brussel': 1,\n",
              " 'Xian Jiao Tong University': 3,\n",
              " 'Xidian University': 2,\n",
              " 'Yonsei University': 2,\n",
              " 'Zhejiang University': 1,\n",
              " 'Zhengzhou University': 2}"
            ]
          },
          "metadata": {},
          "execution_count": 160
        }
      ]
    },
    {
      "cell_type": "code",
      "metadata": {
        "colab": {
          "base_uri": "https://localhost:8080/"
        },
        "id": "UtwMw290CDAp",
        "outputId": "0fd14241-ba65-4bfc-dfb9-33734ffdb5a7"
      },
      "source": [
        "academia_country = {}\n",
        "for i in unique_academia:\n",
        "  academia_country[i] = 'USA'\n",
        "academia_country['Aberystwyth University'] = 'UK'\n",
        "academia_country['Australian National University'] = 'Australia'\n",
        "academia_country['Beihang University'] = 'China'\n",
        "academia_country['Beijing Academy of Intelligence'] = 'China'\n",
        "academia_country['Beijing National Research Center for Information Science and Technology'] = 'China'\n",
        "academia_country['CUHK'] = 'Hong Kong'\n",
        "academia_country['Dalian University of Technology'] = 'China'\n",
        "academia_country['Damo Academy'] = 'China'\n",
        "academia_country['Dublin City University'] = 'Ireland'\n",
        "academia_country['Ecole Normale'] = 'France'\n",
        "academia_country['EcoledesPonts Paris Tech'] = 'France'\n",
        "academia_country['EPFL'] = 'Switzerland'\n",
        "academia_country['ETH Zurich'] = 'Switzerland'\n",
        "academia_country['French Institute for Research in Computer Science and Automation'] = 'France'\n",
        "academia_country['Gwangju Institute of Science and Technology'] = 'South Korea'\n",
        "academia_country['Harbin Institute of Technology'] = 'China'\n",
        "academia_country['Higher School of Economics'] = 'Russia'\n",
        "academia_country['HKUST'] = 'Hong Kong'\n",
        "academia_country['Huazhong University of Science and Technology'] = 'China'\n",
        "academia_country['Imperial College London'] = 'UK'\n",
        "academia_country['International Digital Economy Academy'] = 'China'\n",
        "academia_country['KIIT'] = 'India'\n",
        "academia_country['KU Leuven'] = 'Belgium'\n",
        "academia_country['Lomonosov Moscow State University'] = 'Russia'\n",
        "academia_country['Monash University'] = 'Australia'\n",
        "academia_country['Nanjing University of Aeronautics and Astronautics'] = 'China'\n",
        "academia_country['Nanjing University of Science and Technology'] = 'China'\n",
        "academia_country['Nanjing University'] = 'China'\n",
        "academia_country['Nankai University'] = 'China'\n",
        "academia_country['Nanyang Technological University'] = 'Singapore'\n",
        "academia_country['National Chiao Tung University'] = 'Taiwan'\n",
        "academia_country['National University of Defense Technology'] = 'China'\n",
        "academia_country['National University of Singapore'] = 'Singapore'\n",
        "academia_country['Peking University'] = 'China'\n",
        "academia_country['RMIT University'] = 'Australia'\n",
        "academia_country['Seoul National University of Science and Technology'] = 'South Korea'\n",
        "academia_country['Seoul National University'] = 'South Korea'\n",
        "academia_country['Shanghai AI Lab'] = 'China'\n",
        "academia_country['Shanghai Jiao Tong University'] = 'China'\n",
        "academia_country['Shenzhen Institute of Artificial Intelligence and Robotics for Society'] = 'China'\n",
        "academia_country['Sogang University'] = 'South Korea'\n",
        "academia_country['Sorbonne University'] = 'France'\n",
        "academia_country['Southern University of Science and Technology'] = 'China'\n",
        "academia_country['SunYat-sen University'] = 'China'\n",
        "academia_country['Swinburne University of Technology'] = 'Australia'\n",
        "academia_country['The Chinese University of Hong Kong'] = 'Hong Kong'\n",
        "academia_country['The University of Adelaide'] = 'Australia'\n",
        "academia_country['The University of Hong Kong'] = 'Hong Kong'\n",
        "academia_country['Tianjin University'] = 'China'\n",
        "academia_country['Tongji University'] = 'China'\n",
        "academia_country['Tshinghua University'] = 'China'\n",
        "academia_country['Universitat Grenoble Alpes'] = 'France'\n",
        "academia_country['University College London'] = 'UK'\n",
        "academia_country['University of Athens'] = 'Greece'\n",
        "academia_country['University of Copenhagen'] = 'Denmark'\n",
        "academia_country['University of Macau'] = 'China'\n",
        "academia_country['University of Munster'] = 'Germany'\n",
        "academia_country['University of New South Wales'] = 'Australia'\n",
        "academia_country['University of Oxford'] = 'UK'\n",
        "academia_country['University of Science and Technology China'] = 'China'\n",
        "academia_country['University of Science and Technology of Hefei'] = 'China'\n",
        "academia_country['University of Sydney'] = 'Australia'\n",
        "academia_country['University of Toronto'] = 'Canada'\n",
        "academia_country['University of Chinese Academy of Sciences'] = 'China'\n",
        "academia_country['Université Paris-Est'] = 'France'\n",
        "academia_country['Vrije Universiteit Brussel'] = 'Belgium'\n",
        "academia_country['Xian Jiao Tong University'] = 'China'\n",
        "academia_country['Xidian University'] = 'China'\n",
        "academia_country['Yonsei University'] = 'South Korea'\n",
        "academia_country['Zhejiang University'] = 'China'\n",
        "academia_country['Zhengzhou University'] = 'China'\n",
        "academia_country"
      ],
      "execution_count": null,
      "outputs": [
        {
          "output_type": "execute_result",
          "data": {
            "text/plain": [
              "{'Aberystwyth University': 'UK',\n",
              " 'Australian National University': 'Australia',\n",
              " 'Beihang University': 'China',\n",
              " 'Beijing Academy of Intelligence': 'China',\n",
              " 'Beijing Institute of Technology': 'USA',\n",
              " 'Beijing National Research Center for Information Science and Technology': 'China',\n",
              " 'Boston University': 'USA',\n",
              " 'CUHK': 'Hong Kong',\n",
              " 'Carnegie Mellon University': 'USA',\n",
              " 'Cornell University': 'USA',\n",
              " 'Dalian University of Technology': 'China',\n",
              " 'Damo Academy': 'China',\n",
              " 'Dublin City University': 'Ireland',\n",
              " 'EPFL': 'Switzerland',\n",
              " 'ETH Zurich': 'Switzerland',\n",
              " 'Ecole Normale': 'France',\n",
              " 'EcoledesPonts Paris Tech': 'France',\n",
              " 'French Institute for Research in Computer Science and Automation': 'France',\n",
              " 'Gwangju Institute of Science and Technology': 'South Korea',\n",
              " 'HKUST': 'Hong Kong',\n",
              " 'Harbin Institute of Technology': 'China',\n",
              " 'Harvard University': 'USA',\n",
              " 'Higher School of Economics': 'Russia',\n",
              " 'Huazhong University of Science and Technology': 'China',\n",
              " 'Imperial College London': 'UK',\n",
              " 'International Digital Economy Academy': 'China',\n",
              " 'Johns Hopkins University': 'USA',\n",
              " 'KIIT': 'India',\n",
              " 'KU Leuven': 'Belgium',\n",
              " 'Lomonosov Moscow State University': 'Russia',\n",
              " 'MIT': 'USA',\n",
              " 'McGill University': 'USA',\n",
              " 'Michigan State University': 'USA',\n",
              " 'Monash University': 'Australia',\n",
              " 'NC State University': 'USA',\n",
              " 'Nanjing University': 'China',\n",
              " 'Nanjing University of Aeronautics and Astronautics': 'China',\n",
              " 'Nanjing University of Science and Technology': 'China',\n",
              " 'Nankai University': 'China',\n",
              " 'Nanyang Technological University': 'Singapore',\n",
              " 'National Chiao Tung University': 'Taiwan',\n",
              " 'National University of Defense Technology': 'China',\n",
              " 'National University of Singapore': 'Singapore',\n",
              " 'New York University': 'USA',\n",
              " 'Peking University': 'China',\n",
              " 'Princeton University': 'USA',\n",
              " 'RMIT University': 'Australia',\n",
              " 'Rice University': 'USA',\n",
              " 'Rutgers University': 'USA',\n",
              " 'Seoul National University': 'South Korea',\n",
              " 'Seoul National University of Science and Technology': 'South Korea',\n",
              " 'Shanghai AI Lab': 'China',\n",
              " 'Shanghai Jiao Tong University': 'China',\n",
              " 'Shenzhen Institute of Artificial Intelligence and Robotics for Society': 'China',\n",
              " 'Sogang University': 'South Korea',\n",
              " 'Sorbonne University': 'France',\n",
              " 'Southern University of Science and Technology': 'China',\n",
              " 'Stanford University': 'USA',\n",
              " 'Stony Brook University': 'USA',\n",
              " 'SunYat-sen University': 'China',\n",
              " 'Swinburne University of Technology': 'Australia',\n",
              " 'The Chinese University of Hong Kong': 'Hong Kong',\n",
              " 'The University of Adelaide': 'Australia',\n",
              " 'The University of Hong Kong': 'Hong Kong',\n",
              " 'Tianjin University': 'China',\n",
              " 'Tongji University': 'China',\n",
              " 'Trinity College': 'USA',\n",
              " 'Tshinghua University': 'China',\n",
              " 'UC Berkeley': 'USA',\n",
              " 'UC Davis': 'USA',\n",
              " 'UC Irvine': 'USA',\n",
              " 'UC Merced': 'USA',\n",
              " 'UC San Diego': 'USA',\n",
              " 'UCLA': 'USA',\n",
              " 'UIUC': 'USA',\n",
              " 'Universitat Grenoble Alpes': 'France',\n",
              " 'University College London': 'UK',\n",
              " 'University of Arizona': 'USA',\n",
              " 'University of Athens': 'Greece',\n",
              " 'University of California SantaCruz': 'USA',\n",
              " 'University of Chicago': 'USA',\n",
              " 'University of Chinese Academy of Sciences': 'China',\n",
              " 'University of Copenhagen': 'Denmark',\n",
              " 'University of Macau': 'China',\n",
              " 'University of Maryland CollegePark': 'USA',\n",
              " 'University of Munster': 'Germany',\n",
              " 'University of New South Wales': 'Australia',\n",
              " 'University of Oregon': 'USA',\n",
              " 'University of Oxford': 'UK',\n",
              " 'University of Science and Technology China': 'China',\n",
              " 'University of Science and Technology of Hefei': 'China',\n",
              " 'University of Sydney': 'Australia',\n",
              " 'University of Texas at Austin': 'USA',\n",
              " 'University of Toronto': 'Canada',\n",
              " 'University of Washington': 'USA',\n",
              " 'Université Paris-Est': 'France',\n",
              " 'Vrije Universiteit Brussel': 'Belgium',\n",
              " 'Xian Jiao Tong University': 'China',\n",
              " 'Xidian University': 'China',\n",
              " 'Yonsei University': 'South Korea',\n",
              " 'Zhejiang University': 'China',\n",
              " 'Zhengzhou University': 'China'}"
            ]
          },
          "metadata": {},
          "execution_count": 161
        }
      ]
    },
    {
      "cell_type": "code",
      "metadata": {
        "colab": {
          "base_uri": "https://localhost:8080/"
        },
        "id": "JaeLFkqkYBBt",
        "outputId": "9c356b5b-d8ba-4aa6-f3f9-015c3e4ee1a7"
      },
      "source": [
        "country_count_2 = {}\n",
        "for i in academia_count:\n",
        "  j = i[0]\n",
        "  for k in academia_country.keys():\n",
        "    if j == k:\n",
        "      country = academia_country[k]\n",
        "      if country not in country_count_2:\n",
        "        country_count_2[country] = i[1]\n",
        "      else:\n",
        "        count = country_count_2[country]\n",
        "        count = count + i[1]\n",
        "        country_count_2[country] = count\n",
        "# country_count_2 = sorted(country_count_2.items(), key = lambda kv: kv[1], reverse = True)\n",
        "country_count_2\n"
      ],
      "execution_count": null,
      "outputs": [
        {
          "output_type": "execute_result",
          "data": {
            "text/plain": [
              "{'Australia': 20,\n",
              " 'Belgium': 8,\n",
              " 'Canada': 1,\n",
              " 'China': 133,\n",
              " 'Denmark': 1,\n",
              " 'France': 50,\n",
              " 'Germany': 1,\n",
              " 'Greece': 1,\n",
              " 'Hong Kong': 17,\n",
              " 'India': 1,\n",
              " 'Ireland': 1,\n",
              " 'Russia': 4,\n",
              " 'Singapore': 36,\n",
              " 'South Korea': 9,\n",
              " 'Switzerland': 6,\n",
              " 'Taiwan': 1,\n",
              " 'UK': 15,\n",
              " 'USA': 141}"
            ]
          },
          "metadata": {},
          "execution_count": 162
        }
      ]
    },
    {
      "cell_type": "markdown",
      "metadata": {
        "id": "KaP_6XKhYraV"
      },
      "source": [
        "# Result and Visualization"
      ]
    },
    {
      "cell_type": "code",
      "metadata": {
        "colab": {
          "base_uri": "https://localhost:8080/",
          "height": 450
        },
        "id": "YgCyZ1idYqh_",
        "outputId": "c404cc9a-ed18-4284-b6b5-bf5118050176"
      },
      "source": [
        "# industry_count\n",
        "xi_companies = []\n",
        "yi_company_count = []\n",
        "for i in unique_industry.keys():\n",
        "  xi_companies.append(i)\n",
        "  yi_company_count.append(unique_industry[i])\n",
        "# yi_company_count\n",
        "fig = plt.figure()\n",
        "ax = fig.add_axes([0,0,1,1])\n",
        "ax.bar(xi_companies, yi_company_count, width=0.7)\n",
        "plt.xticks(rotation = 90)\n",
        "plt.title('Company Count')\n",
        "plt.show()"
      ],
      "execution_count": null,
      "outputs": [
        {
          "output_type": "display_data",
          "data": {
            "image/png": "[encoded data removed]",
            "text/plain": [
              "<Figure size 432x288 with 1 Axes>"
            ]
          },
          "metadata": {
            "needs_background": "light"
          }
        }
      ]
    },
    {
      "cell_type": "code",
      "metadata": {
        "colab": {
          "base_uri": "https://localhost:8080/",
          "height": 707
        },
        "id": "Al0wOElTblDJ",
        "outputId": "db044e66-5837-40c3-c494-e6b8911a12f4"
      },
      "source": [
        "# academia_count\n",
        "xa_varsities = []\n",
        "ya_varsity_count = []\n",
        "for i in unique_academia.keys():\n",
        "  xa_varsities.append(i)\n",
        "  ya_varsity_count.append(unique_academia[i])\n",
        "# xa_companies\n",
        "fig = plt.figure()\n",
        "ax = fig.add_axes([0,0,1,1])\n",
        "ax.bar(xa_varsities, ya_varsity_count)\n",
        "plt.xticks(rotation = 90)\n",
        "plt.title('Varsity Count')\n",
        "plt.show()"
      ],
      "execution_count": null,
      "outputs": [
        {
          "output_type": "display_data",
          "data": {
            "image/png": "[encoded data removed]",
            "text/plain": [
              "<Figure size 432x288 with 1 Axes>"
            ]
          },
          "metadata": {
            "needs_background": "light"
          }
        }
      ]
    },
    {
      "cell_type": "code",
      "metadata": {
        "colab": {
          "base_uri": "https://localhost:8080/",
          "height": 402
        },
        "id": "5ZZgnHi9eav3",
        "outputId": "f4c8845b-d2a9-491b-97da-9a1274ed9c30"
      },
      "source": [
        "# country_count\n",
        "import matplotlib as mt\n",
        "xi_countries = []\n",
        "yi_country_count = []\n",
        "for i in country_count.keys():\n",
        "  xi_countries.append(i)\n",
        "  yi_country_count.append(country_count[i])\n",
        "# yi_company_count\n",
        "fig = plt.figure()\n",
        "ax = fig.add_axes([0,0,1,1])\n",
        "# rec = mt.patches.Rectangle((0,0), 10000000, 300)\n",
        "ax.bar(xi_countries, yi_country_count, width = 0.9)\n",
        "plt.xticks(rotation = 90)\n",
        "plt.title('Country Count (Industry)')\n",
        "plt.show()"
      ],
      "execution_count": null,
      "outputs": [
        {
          "output_type": "display_data",
          "data": {
            "image/png": "[encoded data removed]",
            "text/plain": [
              "<Figure size 432x288 with 1 Axes>"
            ]
          },
          "metadata": {
            "needs_background": "light"
          }
        }
      ]
    },
    {
      "cell_type": "code",
      "metadata": {
        "colab": {
          "base_uri": "https://localhost:8080/",
          "height": 402
        },
        "id": "AH-kFpwDecEX",
        "outputId": "5c2d14e5-c9a3-4cab-f4db-bd0d1c12e4c2"
      },
      "source": [
        "# country_count\n",
        "xa_countries = []\n",
        "ya_country_count = []\n",
        "for i in country_count_2.keys():\n",
        "  xa_countries.append(i)\n",
        "  ya_country_count.append(country_count_2[i])\n",
        "# yi_company_count\n",
        "fig = plt.figure()\n",
        "ax = fig.add_axes([0,0,1,1])\n",
        "ax.bar(xa_countries, ya_country_count, width = 0.9)\n",
        "plt.xticks(rotation = 90)\n",
        "plt.title('Country Count (Academia)')\n",
        "plt.show()"
      ],
      "execution_count": null,
      "outputs": [
        {
          "output_type": "display_data",
          "data": {
            "image/png": "[encoded data removed]",
            "text/plain": [
              "<Figure size 432x288 with 1 Axes>"
            ]
          },
          "metadata": {
            "needs_background": "light"
          }
        }
      ]
    }
  ]
}