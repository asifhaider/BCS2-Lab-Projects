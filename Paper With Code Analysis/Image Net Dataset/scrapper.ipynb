{
  "nbformat": 4,
  "nbformat_minor": 5,
  "metadata": {
    "kernelspec": {
      "display_name": "Python 3",
      "language": "python",
      "name": "python3"
    },
    "language_info": {
      "codemirror_mode": {
        "name": "ipython",
        "version": 3
      },
      "file_extension": ".py",
      "mimetype": "text/x-python",
      "name": "python",
      "nbconvert_exporter": "python",
      "pygments_lexer": "ipython3",
      "version": "3.9.4"
    },
    "colab": {
      "name": "papcode.ipynb",
      "provenance": [],
      "collapsed_sections": []
    }
  },
  "cells": [
    {
      "cell_type": "code",
      "metadata": {
        "colab": {
          "base_uri": "https://localhost:8080/"
        },
        "id": "8dcTjv9_bnkh",
        "outputId": "008a5c91-68f8-4bdf-e77d-9127c8450613"
      },
      "source": [
        "from google.colab import drive\n",
        "drive.mount('/content/drive')"
      ],
      "id": "8dcTjv9_bnkh",
      "execution_count": null,
      "outputs": [
        {
          "output_type": "stream",
          "name": "stdout",
          "text": [
            "Mounted at /content/drive\n"
          ]
        }
      ]
    },
    {
      "cell_type": "code",
      "metadata": {
        "id": "634e0b4b",
        "colab": {
          "base_uri": "https://localhost:8080/"
        },
        "outputId": "669892c4-ff46-4265-8e9b-da3a9908b1b3"
      },
      "source": [
        "# !pip install PyPDF2\n",
        "import numpy as np\n",
        "import pandas as pd\n",
        "from PyPDF2 import PdfFileReader\n",
        "import requests\n",
        "import io\n",
        "from bs4 import BeautifulSoup\n",
        "import re"
      ],
      "id": "634e0b4b",
      "execution_count": null,
      "outputs": [
        {
          "output_type": "stream",
          "name": "stdout",
          "text": [
            "Collecting PyPDF2\n",
            "  Downloading PyPDF2-1.26.0.tar.gz (77 kB)\n",
            "\u001b[?25l\r\u001b[K     |████▎                           | 10 kB 22.4 MB/s eta 0:00:01\r\u001b[K     |████████▌                       | 20 kB 10.4 MB/s eta 0:00:01\r\u001b[K     |████████████▊                   | 30 kB 8.6 MB/s eta 0:00:01\r\u001b[K     |█████████████████               | 40 kB 7.8 MB/s eta 0:00:01\r\u001b[K     |█████████████████████▏          | 51 kB 4.0 MB/s eta 0:00:01\r\u001b[K     |█████████████████████████▍      | 61 kB 4.3 MB/s eta 0:00:01\r\u001b[K     |█████████████████████████████▋  | 71 kB 4.4 MB/s eta 0:00:01\r\u001b[K     |████████████████████████████████| 77 kB 2.8 MB/s \n",
            "\u001b[?25hBuilding wheels for collected packages: PyPDF2\n",
            "  Building wheel for PyPDF2 (setup.py) ... \u001b[?25l\u001b[?25hdone\n",
            "  Created wheel for PyPDF2: filename=PyPDF2-1.26.0-py3-none-any.whl size=61101 sha256=7e00afe93b26ef9b967b37906ce692368657a0000b60da50f8afbde3bac73975\n",
            "  Stored in directory: /root/.cache/pip/wheels/80/1a/24/648467ade3a77ed20f35cfd2badd32134e96dd25ca811e64b3\n",
            "Successfully built PyPDF2\n",
            "Installing collected packages: PyPDF2\n",
            "Successfully installed PyPDF2-1.26.0\n"
          ]
        }
      ]
    },
    {
      "cell_type": "code",
      "metadata": {
        "id": "fc3f7195"
      },
      "source": [
        "df = pd.read_csv('/content/drive/MyDrive/Colab Notebooks/BCS2 Paper With Code/v1.csv', encoding='latin-1')"
      ],
      "id": "fc3f7195",
      "execution_count": null,
      "outputs": []
    },
    {
      "cell_type": "code",
      "metadata": {
        "colab": {
          "base_uri": "https://localhost:8080/"
        },
        "id": "9497afea",
        "outputId": "28d76e47-b5b2-4deb-d0ec-36642335125e"
      },
      "source": [
        "all_links = df['Paper Link']\n",
        "all_links.notna().values.any()"
      ],
      "id": "9497afea",
      "execution_count": null,
      "outputs": [
        {
          "output_type": "execute_result",
          "data": {
            "text/plain": [
              "True"
            ]
          },
          "metadata": {},
          "execution_count": 4
        }
      ]
    },
    {
      "cell_type": "code",
      "metadata": {
        "id": "6f3c5be1"
      },
      "source": [
        "# test flag\n",
        "# flag = 298\n",
        "outputs = open('/content/drive/MyDrive/Colab Notebooks/BCS2 Paper With Code/outputs_5.txt', 'a')\n",
        "\n",
        "for link in range(flag,len(all_links)):\n",
        "    print('====================== Link ' + str(flag) + ' ==========================')\n",
        "    outputs.write('===================================== Link ' + str(flag) + ' ==================================================' + '\\n')\n",
        "    url = requests.get(all_links[link])\n",
        "    soup = BeautifulSoup(url.content,\"html\")\n",
        "\n",
        "    for a in soup.find_all('a', href=True):\n",
        "        mystr= a['href']\n",
        "        if(mystr[-4:]=='.pdf'):\n",
        "            print (\"url with pdf final:\", a['href'])\n",
        "            outputs.write(\"url with pdf final:\" + str(a['href']) + '\\n')\n",
        "            urlpdf = a['href']\n",
        "            response = requests.get(urlpdf)\n",
        "            with io.BytesIO(response.content) as f:\n",
        "                pdf = PdfFileReader(f)\n",
        "                information = pdf.getDocumentInfo()\n",
        "                number_of_pages = pdf.getNumPages()\n",
        "                txt = f\"\"\"\n",
        "                Author: {information.author}\n",
        "                Creator: {information.creator}\n",
        "                Producer: {information.producer}\n",
        "                Subject: {information.subject}\n",
        "                Title: {information.title}\n",
        "                Number of pages: {number_of_pages}\n",
        "                \"\"\"\n",
        "                # Here the metadata of your pdf\n",
        "                print(txt)\n",
        "                outputs.write(txt + '\\n')\n",
        "                # numpage for the number page\n",
        "                numpage=0\n",
        "                page = pdf.getPage(numpage)\n",
        "                # data = pdf.getXmpMetadata()\n",
        "                # data = page.getContents()\n",
        "                page_content = page.extractText().split('\\n')\n",
        "                for content in page_content:\n",
        "                  if 'Abstract' in content:\n",
        "                    break \n",
        "                  else:\n",
        "                    print(content)\n",
        "                    outputs.write(content + '\\n')                    \n",
        "                # print the content in the page 1           \n",
        "                # print(page_content)\n",
        "                # print(data)\n",
        "    # flag = flag + 1\n",
        "    # if flag>330:\n",
        "    #    output.close()\n",
        "    #   break\n",
        "outputs.close()  "
      ],
      "id": "6f3c5be1",
      "execution_count": null,
      "outputs": []
    }
  ]
}